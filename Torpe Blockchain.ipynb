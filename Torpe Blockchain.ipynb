{
 "cells": [
  {
   "cell_type": "markdown",
   "metadata": {},
   "source": [
    "### Hash Function"
   ]
  },
  {
   "cell_type": "code",
   "execution_count": 1,
   "metadata": {
    "collapsed": true
   },
   "outputs": [],
   "source": [
    "import hashlib\n",
    "def hash_sha256(raw):\n",
    "    raw = str(raw).encode('utf-8')\n",
    "    return hashlib.sha256(raw).hexdigest() "
   ]
  },
  {
   "cell_type": "code",
   "execution_count": 2,
   "metadata": {},
   "outputs": [
    {
     "data": {
      "text/plain": [
       "'e5367197a1f12480ec761306f2fa9d15b494d5a80e5a806713df9e60943f4faf'"
      ]
     },
     "execution_count": 2,
     "metadata": {},
     "output_type": "execute_result"
    }
   ],
   "source": [
    "hash_sha256('torpe_blockchain')"
   ]
  },
  {
   "cell_type": "code",
   "execution_count": 3,
   "metadata": {},
   "outputs": [
    {
     "data": {
      "text/plain": [
       "'e5367197a1f12480ec761306f2fa9d15b494d5a80e5a806713df9e60943f4faf'"
      ]
     },
     "execution_count": 3,
     "metadata": {},
     "output_type": "execute_result"
    }
   ],
   "source": [
    "hash_sha256('torpe_blockchain')"
   ]
  },
  {
   "cell_type": "code",
   "execution_count": 4,
   "metadata": {},
   "outputs": [
    {
     "data": {
      "text/plain": [
       "'35ba7e0c2afd3e1175399e99c7e307ea78e62c9dd6e3cb39afc9604043a55e4b'"
      ]
     },
     "execution_count": 4,
     "metadata": {},
     "output_type": "execute_result"
    }
   ],
   "source": [
    "hash_sha256('monkey_brain')"
   ]
  },
  {
   "cell_type": "markdown",
   "metadata": {},
   "source": [
    "SHA-256 collisions have not been found yet. "
   ]
  },
  {
   "cell_type": "markdown",
   "metadata": {},
   "source": [
    "### Nonce"
   ]
  },
  {
   "cell_type": "markdown",
   "metadata": {},
   "source": [
    "> Number that can only be used once\n",
    "\n",
    "An arbitrary numer used in cryptography to ensure uniqueness and prevent the rerunning of transactions (known as replay attack). "
   ]
  },
  {
   "cell_type": "markdown",
   "metadata": {},
   "source": [
    "## Block"
   ]
  },
  {
   "cell_type": "markdown",
   "metadata": {},
   "source": [
    "Blocks hold batches of valid transactions that are hashed and encoded into a Merkle tree Each block includes the cryptographic hash of the prior block in the blockchain, linking the two. The linked blocks form a chain. This iterative process confirms the integrity of the previous block, all the way back to the original genesis block."
   ]
  },
  {
   "cell_type": "markdown",
   "metadata": {},
   "source": [
    "### Genesis Block"
   ]
  },
  {
   "cell_type": "markdown",
   "metadata": {},
   "source": [
    "A genesis block or block0 is the first block of a block chain. The genesis block is almost always hardcoded into the software of the applications that utilize its block chain. It is a special case in that it does not reference a previous block"
   ]
  },
  {
   "cell_type": "code",
   "execution_count": 5,
   "metadata": {
    "collapsed": true
   },
   "outputs": [],
   "source": [
    "import datetime"
   ]
  },
  {
   "cell_type": "code",
   "execution_count": 6,
   "metadata": {
    "collapsed": true
   },
   "outputs": [],
   "source": [
    "# Lets assume 5 person were given 100 coins each\n",
    "state = {\n",
    "    'Person_1': 100, \n",
    "    'Person_2': 100, \n",
    "    'Person_3': 100, \n",
    "    'Person_4': 100, \n",
    "    'Person_5': 100\n",
    "}"
   ]
  },
  {
   "cell_type": "code",
   "execution_count": 7,
   "metadata": {
    "collapsed": true
   },
   "outputs": [],
   "source": [
    "block0_data = {\n",
    "    'timestamp': datetime.datetime.now(),\n",
    "    'index': 0,\n",
    "    'previous': None,\n",
    "    'transactions': [state] \n",
    "}\n",
    "\n",
    "block0 = {\n",
    "    'hash': hash_sha256(block0_data),\n",
    "    'data': block0_data,\n",
    "}"
   ]
  },
  {
   "cell_type": "code",
   "execution_count": 8,
   "metadata": {},
   "outputs": [
    {
     "data": {
      "text/plain": [
       "{'data': {'index': 0,\n",
       "  'previous': None,\n",
       "  'timestamp': datetime.datetime(2019, 1, 24, 22, 2, 25, 304057),\n",
       "  'transactions': [{'Person_1': 100,\n",
       "    'Person_2': 100,\n",
       "    'Person_3': 100,\n",
       "    'Person_4': 100,\n",
       "    'Person_5': 100}]},\n",
       " 'hash': 'f6a260ede08bae762805d6754d8b832e460bbe76885107eff43321612d011689'}"
      ]
     },
     "execution_count": 8,
     "metadata": {},
     "output_type": "execute_result"
    }
   ],
   "source": [
    "block0"
   ]
  },
  {
   "cell_type": "markdown",
   "metadata": {},
   "source": [
    "This is the genesis block or block 0 here."
   ]
  },
  {
   "cell_type": "markdown",
   "metadata": {},
   "source": [
    "### Transactions"
   ]
  },
  {
   "cell_type": "code",
   "execution_count": 9,
   "metadata": {
    "collapsed": true
   },
   "outputs": [],
   "source": [
    "import random\n",
    "def random_transaction(state):\n",
    "    temp_list = list(state.keys())\n",
    "    random.shuffle(temp_list)\n",
    "    # randomly select two persons\n",
    "    first_person = temp_list.pop()\n",
    "    second_person = temp_list.pop()\n",
    "    receive = random.randint(1, 10)\n",
    "    give = -receive\n",
    "    return {\n",
    "        first_person:receive, \n",
    "        second_person:give\n",
    "    }"
   ]
  },
  {
   "cell_type": "code",
   "execution_count": 10,
   "metadata": {
    "collapsed": true
   },
   "outputs": [],
   "source": [
    "test_transactions = [random_transaction(state) for x in range(5)]"
   ]
  },
  {
   "cell_type": "code",
   "execution_count": 11,
   "metadata": {},
   "outputs": [
    {
     "data": {
      "text/plain": [
       "[{'Person_2': 9, 'Person_5': -9},\n",
       " {'Person_1': 7, 'Person_2': -7},\n",
       " {'Person_1': -6, 'Person_2': 6},\n",
       " {'Person_2': 2, 'Person_3': -2},\n",
       " {'Person_4': -1, 'Person_5': 1}]"
      ]
     },
     "execution_count": 11,
     "metadata": {},
     "output_type": "execute_result"
    }
   ],
   "source": [
    "test_transactions"
   ]
  },
  {
   "cell_type": "markdown",
   "metadata": {},
   "source": [
    "### Updating State"
   ]
  },
  {
   "cell_type": "code",
   "execution_count": 12,
   "metadata": {
    "collapsed": true
   },
   "outputs": [],
   "source": [
    "def update_state(transaction, state):\n",
    "    state = state.copy()\n",
    "    for key in transaction:\n",
    "        state[key] = state.get(key) + transaction[key]\n",
    "    return state"
   ]
  },
  {
   "cell_type": "code",
   "execution_count": 13,
   "metadata": {
    "collapsed": true
   },
   "outputs": [],
   "source": [
    "for transaction in test_transactions:\n",
    "    state = update_state(transaction, state)"
   ]
  },
  {
   "cell_type": "code",
   "execution_count": 14,
   "metadata": {},
   "outputs": [
    {
     "data": {
      "text/plain": [
       "{'Person_1': 101,\n",
       " 'Person_2': 110,\n",
       " 'Person_3': 98,\n",
       " 'Person_4': 99,\n",
       " 'Person_5': 92}"
      ]
     },
     "execution_count": 14,
     "metadata": {},
     "output_type": "execute_result"
    }
   ],
   "source": [
    "state"
   ]
  },
  {
   "cell_type": "markdown",
   "metadata": {},
   "source": [
    "### Valid Transactions"
   ]
  },
  {
   "cell_type": "code",
   "execution_count": 15,
   "metadata": {
    "collapsed": true
   },
   "outputs": [],
   "source": [
    "def check_transaction_validity(transaction, state):\n",
    "    # check neg vs pos\n",
    "    if sum(transaction.values()) is not 0:\n",
    "        return False\n",
    "    # check if amount in wallet to give\n",
    "    for key in transaction.keys():\n",
    "        if state.get(key) + transaction[key] < 0:\n",
    "            return False\n",
    "    return True"
   ]
  },
  {
   "cell_type": "code",
   "execution_count": 16,
   "metadata": {},
   "outputs": [
    {
     "name": "stdout",
     "output_type": "stream",
     "text": [
      "True\n",
      "True\n",
      "True\n",
      "True\n",
      "True\n"
     ]
    }
   ],
   "source": [
    "for transaction in test_transactions:\n",
    "    print (check_transaction_validity(transaction, state))"
   ]
  },
  {
   "cell_type": "code",
   "execution_count": 17,
   "metadata": {},
   "outputs": [
    {
     "name": "stdout",
     "output_type": "stream",
     "text": [
      "False\n"
     ]
    }
   ],
   "source": [
    "# No balance\n",
    "print (check_transaction_validity({'A': 5, 'B': -5}, {'A': 0, 'B': 0}))"
   ]
  },
  {
   "cell_type": "code",
   "execution_count": 18,
   "metadata": {},
   "outputs": [
    {
     "name": "stdout",
     "output_type": "stream",
     "text": [
      "False\n"
     ]
    }
   ],
   "source": [
    "# Bad transaction\n",
    "print (check_transaction_validity({'A': 5, 'B': 5}, {'A': 50, 'B': 50}))"
   ]
  },
  {
   "cell_type": "markdown",
   "metadata": {},
   "source": [
    "### Initial State"
   ]
  },
  {
   "cell_type": "code",
   "execution_count": 19,
   "metadata": {
    "collapsed": true
   },
   "outputs": [],
   "source": [
    "# Let us reset\n",
    "# Lets assume 5 person were given 100 coins each\n",
    "state = {\n",
    "    'Person_1': 100, \n",
    "    'Person_2': 100, \n",
    "    'Person_3': 100, \n",
    "    'Person_4': 100, \n",
    "    'Person_5': 100\n",
    "}\n",
    "\n",
    "blockchain = []"
   ]
  },
  {
   "cell_type": "code",
   "execution_count": 20,
   "metadata": {
    "collapsed": true
   },
   "outputs": [],
   "source": [
    "# Adding the genesis block\n",
    "blockchain.append(block0)"
   ]
  },
  {
   "cell_type": "code",
   "execution_count": 21,
   "metadata": {},
   "outputs": [
    {
     "data": {
      "text/plain": [
       "[{'data': {'index': 0,\n",
       "   'previous': None,\n",
       "   'timestamp': datetime.datetime(2019, 1, 24, 22, 2, 25, 304057),\n",
       "   'transactions': [{'Person_1': 100,\n",
       "     'Person_2': 100,\n",
       "     'Person_3': 100,\n",
       "     'Person_4': 100,\n",
       "     'Person_5': 100}]},\n",
       "  'hash': 'f6a260ede08bae762805d6754d8b832e460bbe76885107eff43321612d011689'}]"
      ]
     },
     "execution_count": 21,
     "metadata": {},
     "output_type": "execute_result"
    }
   ],
   "source": [
    "blockchain"
   ]
  },
  {
   "cell_type": "markdown",
   "metadata": {},
   "source": [
    "### Non-genesis block / New block"
   ]
  },
  {
   "cell_type": "code",
   "execution_count": 22,
   "metadata": {
    "collapsed": true
   },
   "outputs": [],
   "source": [
    "def new_block(transactions, blockchain):\n",
    "    previous_block = blockchain[-1]\n",
    "    data = {\n",
    "        'timestamp': datetime.datetime.now(),\n",
    "        'index': previous_block['data']['index'] + 1,\n",
    "        'previous': previous_block['hash'],\n",
    "        'transactions': transactions,\n",
    "        }\n",
    "\n",
    "    block = {'hash': hash_sha256(data), 'data': data}\n",
    "    return block"
   ]
  },
  {
   "cell_type": "code",
   "execution_count": 23,
   "metadata": {
    "collapsed": true
   },
   "outputs": [],
   "source": [
    "sample_transactions = [random_transaction(state) for x in range(50)]"
   ]
  },
  {
   "cell_type": "code",
   "execution_count": 24,
   "metadata": {
    "scrolled": true
   },
   "outputs": [
    {
     "data": {
      "text/plain": [
       "[{'Person_1': 9, 'Person_5': -9},\n",
       " {'Person_1': -10, 'Person_5': 10},\n",
       " {'Person_3': -10, 'Person_5': 10},\n",
       " {'Person_1': -4, 'Person_2': 4},\n",
       " {'Person_1': 2, 'Person_3': -2},\n",
       " {'Person_3': -9, 'Person_5': 9},\n",
       " {'Person_1': 3, 'Person_3': -3},\n",
       " {'Person_4': 1, 'Person_5': -1},\n",
       " {'Person_1': -10, 'Person_3': 10},\n",
       " {'Person_1': 7, 'Person_3': -7},\n",
       " {'Person_1': 2, 'Person_5': -2},\n",
       " {'Person_4': 4, 'Person_5': -4},\n",
       " {'Person_2': 7, 'Person_5': -7},\n",
       " {'Person_4': 5, 'Person_5': -5},\n",
       " {'Person_2': -5, 'Person_3': 5},\n",
       " {'Person_1': -5, 'Person_5': 5},\n",
       " {'Person_4': 7, 'Person_5': -7},\n",
       " {'Person_4': 4, 'Person_5': -4},\n",
       " {'Person_1': -1, 'Person_3': 1},\n",
       " {'Person_1': -2, 'Person_3': 2},\n",
       " {'Person_2': 2, 'Person_4': -2},\n",
       " {'Person_1': 1, 'Person_3': -1},\n",
       " {'Person_2': -9, 'Person_4': 9},\n",
       " {'Person_1': -7, 'Person_3': 7},\n",
       " {'Person_2': -3, 'Person_4': 3},\n",
       " {'Person_3': -9, 'Person_4': 9},\n",
       " {'Person_1': 3, 'Person_2': -3},\n",
       " {'Person_3': -6, 'Person_5': 6},\n",
       " {'Person_1': 10, 'Person_2': -10},\n",
       " {'Person_2': 7, 'Person_5': -7},\n",
       " {'Person_3': 10, 'Person_5': -10},\n",
       " {'Person_4': -6, 'Person_5': 6},\n",
       " {'Person_2': 5, 'Person_5': -5},\n",
       " {'Person_1': -3, 'Person_4': 3},\n",
       " {'Person_1': 9, 'Person_4': -9},\n",
       " {'Person_1': -1, 'Person_4': 1},\n",
       " {'Person_3': -5, 'Person_4': 5},\n",
       " {'Person_2': -6, 'Person_3': 6},\n",
       " {'Person_1': 5, 'Person_3': -5},\n",
       " {'Person_2': -6, 'Person_3': 6},\n",
       " {'Person_3': 4, 'Person_5': -4},\n",
       " {'Person_4': 4, 'Person_5': -4},\n",
       " {'Person_4': 10, 'Person_5': -10},\n",
       " {'Person_1': -10, 'Person_3': 10},\n",
       " {'Person_1': 3, 'Person_3': -3},\n",
       " {'Person_3': 2, 'Person_4': -2},\n",
       " {'Person_2': -3, 'Person_5': 3},\n",
       " {'Person_3': -6, 'Person_4': 6},\n",
       " {'Person_1': -7, 'Person_2': 7},\n",
       " {'Person_1': -8, 'Person_3': 8}]"
      ]
     },
     "execution_count": 24,
     "metadata": {},
     "output_type": "execute_result"
    }
   ],
   "source": [
    "sample_transactions"
   ]
  },
  {
   "cell_type": "markdown",
   "metadata": {},
   "source": [
    "### Transactions per block"
   ]
  },
  {
   "cell_type": "markdown",
   "metadata": {},
   "source": [
    "Bitcoin blocks used to contain fewer than 200 transactions and the largest number of transactions in a block was 1,976 at the time this answer was originally written (May 2013). In meanwhile (November 2017) the average number of transaction per block is well above 1500 with peaks above 2200."
   ]
  },
  {
   "cell_type": "code",
   "execution_count": 25,
   "metadata": {},
   "outputs": [],
   "source": [
    "# Although block size is \n",
    "transactions_per_block = 5\n",
    "transaction_block = []\n",
    "\n",
    "for transaction in sample_transactions:\n",
    "    if check_transaction_validity(transaction, state):\n",
    "        state = update_state(transaction, state)\n",
    "        transaction_block.append(transaction)\n",
    "        \n",
    "        if len(transaction_block) >= transactions_per_block:\n",
    "            blockchain.append(new_block(transaction_block, blockchain))\n",
    "            transaction_block = []"
   ]
  },
  {
   "cell_type": "code",
   "execution_count": 26,
   "metadata": {
    "scrolled": false
   },
   "outputs": [
    {
     "name": "stdout",
     "output_type": "stream",
     "text": [
      "{'data': {'index': 0,\n",
      "          'previous': None,\n",
      "          'timestamp': datetime.datetime(2019, 1, 24, 22, 2, 25, 304057),\n",
      "          'transactions': [{'Person_1': 100,\n",
      "                            'Person_2': 100,\n",
      "                            'Person_3': 100,\n",
      "                            'Person_4': 100,\n",
      "                            'Person_5': 100}]},\n",
      " 'hash': 'f6a260ede08bae762805d6754d8b832e460bbe76885107eff43321612d011689'}\n",
      "\n",
      "************************************************************************************\n",
      "\n",
      "{'data': {'index': 1,\n",
      "          'previous': 'f6a260ede08bae762805d6754d8b832e460bbe76885107eff43321612d011689',\n",
      "          'timestamp': datetime.datetime(2019, 1, 24, 22, 2, 25, 581327),\n",
      "          'transactions': [{'Person_1': 9, 'Person_5': -9},\n",
      "                           {'Person_1': -10, 'Person_5': 10},\n",
      "                           {'Person_3': -10, 'Person_5': 10},\n",
      "                           {'Person_1': -4, 'Person_2': 4},\n",
      "                           {'Person_1': 2, 'Person_3': -2}]},\n",
      " 'hash': '3e6b0a9218d18b2af7b6fcd593206b999171b24f3d01569802e2063fddb9879b'}\n",
      "\n",
      "************************************************************************************\n",
      "\n",
      "{'data': {'index': 2,\n",
      "          'previous': '3e6b0a9218d18b2af7b6fcd593206b999171b24f3d01569802e2063fddb9879b',\n",
      "          'timestamp': datetime.datetime(2019, 1, 24, 22, 2, 25, 581327),\n",
      "          'transactions': [{'Person_3': -9, 'Person_5': 9},\n",
      "                           {'Person_1': 3, 'Person_3': -3},\n",
      "                           {'Person_4': 1, 'Person_5': -1},\n",
      "                           {'Person_1': -10, 'Person_3': 10},\n",
      "                           {'Person_1': 7, 'Person_3': -7}]},\n",
      " 'hash': 'f9745fcdda995af05583edfeaed0f8a010d6f90ff55c29e6f2cbdb5d3ab1b00e'}\n",
      "\n",
      "************************************************************************************\n",
      "\n",
      "{'data': {'index': 3,\n",
      "          'previous': 'f9745fcdda995af05583edfeaed0f8a010d6f90ff55c29e6f2cbdb5d3ab1b00e',\n",
      "          'timestamp': datetime.datetime(2019, 1, 24, 22, 2, 25, 581327),\n",
      "          'transactions': [{'Person_1': 2, 'Person_5': -2},\n",
      "                           {'Person_4': 4, 'Person_5': -4},\n",
      "                           {'Person_2': 7, 'Person_5': -7},\n",
      "                           {'Person_4': 5, 'Person_5': -5},\n",
      "                           {'Person_2': -5, 'Person_3': 5}]},\n",
      " 'hash': 'eca512385ce4947e7ca78323c948cdc968637526f3deead2f848cca6267ddfd9'}\n",
      "\n",
      "************************************************************************************\n",
      "\n",
      "{'data': {'index': 4,\n",
      "          'previous': 'eca512385ce4947e7ca78323c948cdc968637526f3deead2f848cca6267ddfd9',\n",
      "          'timestamp': datetime.datetime(2019, 1, 24, 22, 2, 25, 581327),\n",
      "          'transactions': [{'Person_1': -5, 'Person_5': 5},\n",
      "                           {'Person_4': 7, 'Person_5': -7},\n",
      "                           {'Person_4': 4, 'Person_5': -4},\n",
      "                           {'Person_1': -1, 'Person_3': 1},\n",
      "                           {'Person_1': -2, 'Person_3': 2}]},\n",
      " 'hash': '21283a1cacb17b34ff3e216f9beb4118e16a360a3db1745fde27a6f4e20810bb'}\n",
      "\n",
      "************************************************************************************\n",
      "\n",
      "{'data': {'index': 5,\n",
      "          'previous': '21283a1cacb17b34ff3e216f9beb4118e16a360a3db1745fde27a6f4e20810bb',\n",
      "          'timestamp': datetime.datetime(2019, 1, 24, 22, 2, 25, 581327),\n",
      "          'transactions': [{'Person_2': 2, 'Person_4': -2},\n",
      "                           {'Person_1': 1, 'Person_3': -1},\n",
      "                           {'Person_2': -9, 'Person_4': 9},\n",
      "                           {'Person_1': -7, 'Person_3': 7},\n",
      "                           {'Person_2': -3, 'Person_4': 3}]},\n",
      " 'hash': '217f6a0a2b5f3dff7668ad3e8447a1d2be918000b1ddfac45a0e18704d450ef7'}\n",
      "\n",
      "************************************************************************************\n",
      "\n",
      "{'data': {'index': 6,\n",
      "          'previous': '217f6a0a2b5f3dff7668ad3e8447a1d2be918000b1ddfac45a0e18704d450ef7',\n",
      "          'timestamp': datetime.datetime(2019, 1, 24, 22, 2, 25, 581327),\n",
      "          'transactions': [{'Person_3': -9, 'Person_4': 9},\n",
      "                           {'Person_1': 3, 'Person_2': -3},\n",
      "                           {'Person_3': -6, 'Person_5': 6},\n",
      "                           {'Person_1': 10, 'Person_2': -10},\n",
      "                           {'Person_2': 7, 'Person_5': -7}]},\n",
      " 'hash': '9fcf6534d37d751bcfd69b4d4800d7b0eca14879854c71875d1017cc50478ed9'}\n",
      "\n",
      "************************************************************************************\n",
      "\n",
      "{'data': {'index': 7,\n",
      "          'previous': '9fcf6534d37d751bcfd69b4d4800d7b0eca14879854c71875d1017cc50478ed9',\n",
      "          'timestamp': datetime.datetime(2019, 1, 24, 22, 2, 25, 581327),\n",
      "          'transactions': [{'Person_3': 10, 'Person_5': -10},\n",
      "                           {'Person_4': -6, 'Person_5': 6},\n",
      "                           {'Person_2': 5, 'Person_5': -5},\n",
      "                           {'Person_1': -3, 'Person_4': 3},\n",
      "                           {'Person_1': 9, 'Person_4': -9}]},\n",
      " 'hash': 'eef4c6ac09b1d7768cc6a1b7c443509309f4b341c5e971c241aa39bce518b902'}\n",
      "\n",
      "************************************************************************************\n",
      "\n",
      "{'data': {'index': 8,\n",
      "          'previous': 'eef4c6ac09b1d7768cc6a1b7c443509309f4b341c5e971c241aa39bce518b902',\n",
      "          'timestamp': datetime.datetime(2019, 1, 24, 22, 2, 25, 581327),\n",
      "          'transactions': [{'Person_1': -1, 'Person_4': 1},\n",
      "                           {'Person_3': -5, 'Person_4': 5},\n",
      "                           {'Person_2': -6, 'Person_3': 6},\n",
      "                           {'Person_1': 5, 'Person_3': -5},\n",
      "                           {'Person_2': -6, 'Person_3': 6}]},\n",
      " 'hash': '094500c895cc7632d83c9f0888cdc550978e9e863200e0e77e250b647ec50c28'}\n",
      "\n",
      "************************************************************************************\n",
      "\n",
      "{'data': {'index': 9,\n",
      "          'previous': '094500c895cc7632d83c9f0888cdc550978e9e863200e0e77e250b647ec50c28',\n",
      "          'timestamp': datetime.datetime(2019, 1, 24, 22, 2, 25, 581327),\n",
      "          'transactions': [{'Person_3': 4, 'Person_5': -4},\n",
      "                           {'Person_4': 4, 'Person_5': -4},\n",
      "                           {'Person_4': 10, 'Person_5': -10},\n",
      "                           {'Person_1': -10, 'Person_3': 10},\n",
      "                           {'Person_1': 3, 'Person_3': -3}]},\n",
      " 'hash': 'bbf215759f6fab20cab723aff86c5062e99a5fba6c36d469726de82aabaf1cb2'}\n",
      "\n",
      "************************************************************************************\n",
      "\n",
      "{'data': {'index': 10,\n",
      "          'previous': 'bbf215759f6fab20cab723aff86c5062e99a5fba6c36d469726de82aabaf1cb2',\n",
      "          'timestamp': datetime.datetime(2019, 1, 24, 22, 2, 25, 581327),\n",
      "          'transactions': [{'Person_3': 2, 'Person_4': -2},\n",
      "                           {'Person_2': -3, 'Person_5': 3},\n",
      "                           {'Person_3': -6, 'Person_4': 6},\n",
      "                           {'Person_1': -7, 'Person_2': 7},\n",
      "                           {'Person_1': -8, 'Person_3': 8}]},\n",
      " 'hash': '2bb455276403e2aa1fd08008a6f6dcfad95dc3749ab931c6b945ad9ccd8dd819'}\n",
      "\n",
      "************************************************************************************\n",
      "\n"
     ]
    }
   ],
   "source": [
    "import pprint\n",
    "pp = pprint.PrettyPrinter()\n",
    "for block in blockchain:\n",
    "    pp.pprint(block)\n",
    "    print('\\n************************************************************************************\\n')"
   ]
  },
  {
   "cell_type": "code",
   "execution_count": null,
   "metadata": {
    "collapsed": true
   },
   "outputs": [],
   "source": []
  }
 ],
 "metadata": {
  "kernelspec": {
   "display_name": "Python 3",
   "language": "python",
   "name": "python3"
  },
  "language_info": {
   "codemirror_mode": {
    "name": "ipython",
    "version": 3
   },
   "file_extension": ".py",
   "mimetype": "text/x-python",
   "name": "python",
   "nbconvert_exporter": "python",
   "pygments_lexer": "ipython3",
   "version": "3.6.3"
  }
 },
 "nbformat": 4,
 "nbformat_minor": 2
}
