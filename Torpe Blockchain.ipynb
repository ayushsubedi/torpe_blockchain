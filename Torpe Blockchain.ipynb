{
 "cells": [
  {
   "cell_type": "markdown",
   "metadata": {},
   "source": [
    "# Torpe Blockchain (तोर्पे ब्लोक्कचैन)\n",
    "### A minimal blockchain data structure to understand the blockchain basics like hashing, nonce, states, genesis blocks etc."
   ]
  },
  {
   "cell_type": "markdown",
   "metadata": {},
   "source": [
    "![title](blockchain.jpg)"
   ]
  },
  {
   "cell_type": "markdown",
   "metadata": {},
   "source": [
    "### Hash Function"
   ]
  },
  {
   "cell_type": "code",
   "execution_count": 1,
   "metadata": {
    "collapsed": true
   },
   "outputs": [],
   "source": [
    "import hashlib\n",
    "def hash_sha256(raw):\n",
    "    raw = str(raw).encode('utf-8')\n",
    "    return hashlib.sha256(raw).hexdigest() "
   ]
  },
  {
   "cell_type": "code",
   "execution_count": 2,
   "metadata": {},
   "outputs": [
    {
     "data": {
      "text/plain": [
       "'e5367197a1f12480ec761306f2fa9d15b494d5a80e5a806713df9e60943f4faf'"
      ]
     },
     "execution_count": 2,
     "metadata": {},
     "output_type": "execute_result"
    }
   ],
   "source": [
    "hash_sha256('torpe_blockchain')"
   ]
  },
  {
   "cell_type": "code",
   "execution_count": 3,
   "metadata": {},
   "outputs": [
    {
     "data": {
      "text/plain": [
       "'e5367197a1f12480ec761306f2fa9d15b494d5a80e5a806713df9e60943f4faf'"
      ]
     },
     "execution_count": 3,
     "metadata": {},
     "output_type": "execute_result"
    }
   ],
   "source": [
    "hash_sha256('torpe_blockchain')"
   ]
  },
  {
   "cell_type": "code",
   "execution_count": 4,
   "metadata": {},
   "outputs": [
    {
     "data": {
      "text/plain": [
       "'000002f2bc99545a10f7725f9e6ea7818313b9fb313c2f29fd9018a26e7120db'"
      ]
     },
     "execution_count": 4,
     "metadata": {},
     "output_type": "execute_result"
    }
   ],
   "source": [
    "hash_sha256({'princi': 'sweet', 'nonce': 164985})"
   ]
  },
  {
   "cell_type": "markdown",
   "metadata": {},
   "source": [
    "SHA-256 collisions have not been found yet. "
   ]
  },
  {
   "cell_type": "markdown",
   "metadata": {},
   "source": [
    "### Nonce"
   ]
  },
  {
   "cell_type": "markdown",
   "metadata": {},
   "source": [
    "> Number that can only be used once\n",
    "\n",
    "An arbitrary numer used in cryptography to ensure uniqueness and prevent the rerunning of transactions (known as replay attack). "
   ]
  },
  {
   "cell_type": "code",
   "execution_count": 5,
   "metadata": {
    "collapsed": true
   },
   "outputs": [],
   "source": [
    "def hash_sha256_nonce(raw):\n",
    "    raw_bytes = str(raw).encode('utf-8')\n",
    "    hashed = hashlib.sha256(raw_bytes).hexdigest() \n",
    "    nonce = 0\n",
    "    while (hashed[:5] != '00000'):\n",
    "        nonce = nonce+1\n",
    "        raw.update({'nonce': nonce})\n",
    "        raw_bytes = str(raw).encode('utf-8')\n",
    "        hashed = hashlib.sha256(raw_bytes).hexdigest() \n",
    "    return raw, hashed"
   ]
  },
  {
   "cell_type": "code",
   "execution_count": 6,
   "metadata": {},
   "outputs": [
    {
     "name": "stdout",
     "output_type": "stream",
     "text": [
      "({'princi': 'sweet', 'nonce': 164985}, '000002f2bc99545a10f7725f9e6ea7818313b9fb313c2f29fd9018a26e7120db')\n"
     ]
    }
   ],
   "source": [
    "print (hash_sha256_nonce({'princi': 'sweet', 'nonce': 0}))"
   ]
  },
  {
   "cell_type": "markdown",
   "metadata": {},
   "source": [
    "### Proof of work"
   ]
  },
  {
   "cell_type": "markdown",
   "metadata": {},
   "source": [
    "The proof of work for this case will be to generate hashes with five leading zeros (by incrementing the nonce). This is the \"mining\" part."
   ]
  },
  {
   "cell_type": "markdown",
   "metadata": {},
   "source": [
    "## Block"
   ]
  },
  {
   "cell_type": "markdown",
   "metadata": {},
   "source": [
    "Blocks hold batches of valid transactions that are hashed and encoded into a Merkle tree Each block includes the cryptographic hash of the prior block in the blockchain, linking the two. The linked blocks form a chain. This iterative process confirms the integrity of the previous block, all the way back to the original genesis block."
   ]
  },
  {
   "cell_type": "markdown",
   "metadata": {},
   "source": [
    "### Genesis Block"
   ]
  },
  {
   "cell_type": "markdown",
   "metadata": {},
   "source": [
    "A genesis block or block0 is the first block of a block chain. The genesis block is almost always hardcoded into the software of the applications that utilize its block chain. It is a special case in that it does not reference a previous block"
   ]
  },
  {
   "cell_type": "code",
   "execution_count": 7,
   "metadata": {
    "collapsed": true
   },
   "outputs": [],
   "source": [
    "import datetime"
   ]
  },
  {
   "cell_type": "code",
   "execution_count": 8,
   "metadata": {
    "collapsed": true
   },
   "outputs": [],
   "source": [
    "# Lets assume 5 person were given 100 coins each\n",
    "state = {\n",
    "    'Person_1': 100, \n",
    "    'Person_2': 100, \n",
    "    'Person_3': 100, \n",
    "    'Person_4': 100, \n",
    "    'Person_5': 100\n",
    "}"
   ]
  },
  {
   "cell_type": "code",
   "execution_count": 9,
   "metadata": {
    "collapsed": true
   },
   "outputs": [],
   "source": [
    "block0_data = {\n",
    "    'timestamp': datetime.datetime.now(),\n",
    "    'index': 0,\n",
    "    'previous': None,\n",
    "    'transactions': [state], \n",
    "    'nonce': 0\n",
    "}\n",
    "\n",
    "raw, hashed = hash_sha256_nonce(block0_data)\n",
    "block0 = {\n",
    "    'hash': hashed,\n",
    "    'data': raw,\n",
    "}"
   ]
  },
  {
   "cell_type": "code",
   "execution_count": 10,
   "metadata": {},
   "outputs": [
    {
     "data": {
      "text/plain": [
       "{'data': {'index': 0,\n",
       "  'nonce': 580379,\n",
       "  'previous': None,\n",
       "  'timestamp': datetime.datetime(2019, 1, 25, 15, 42, 26, 890029),\n",
       "  'transactions': [{'Person_1': 100,\n",
       "    'Person_2': 100,\n",
       "    'Person_3': 100,\n",
       "    'Person_4': 100,\n",
       "    'Person_5': 100}]},\n",
       " 'hash': '000002a84157c34546b666af4ff2684cc386be3e511d34a13946996b2a6aafa2'}"
      ]
     },
     "execution_count": 10,
     "metadata": {},
     "output_type": "execute_result"
    }
   ],
   "source": [
    "block0"
   ]
  },
  {
   "cell_type": "markdown",
   "metadata": {},
   "source": [
    "This is the genesis block or block 0 here."
   ]
  },
  {
   "cell_type": "markdown",
   "metadata": {},
   "source": [
    "### Transactions"
   ]
  },
  {
   "cell_type": "code",
   "execution_count": 11,
   "metadata": {
    "collapsed": true
   },
   "outputs": [],
   "source": [
    "import random\n",
    "def random_transaction(state):\n",
    "    temp_list = list(state.keys())\n",
    "    random.shuffle(temp_list)\n",
    "    # randomly select two persons\n",
    "    first_person = temp_list.pop()\n",
    "    second_person = temp_list.pop()\n",
    "    receive = random.randint(1, 10)\n",
    "    give = -receive\n",
    "    return {\n",
    "        first_person:receive, \n",
    "        second_person:give\n",
    "    }"
   ]
  },
  {
   "cell_type": "code",
   "execution_count": 12,
   "metadata": {
    "collapsed": true
   },
   "outputs": [],
   "source": [
    "test_transactions = [random_transaction(state) for x in range(5)]"
   ]
  },
  {
   "cell_type": "code",
   "execution_count": 13,
   "metadata": {},
   "outputs": [
    {
     "data": {
      "text/plain": [
       "[{'Person_2': 7, 'Person_5': -7},\n",
       " {'Person_2': 9, 'Person_3': -9},\n",
       " {'Person_2': -2, 'Person_4': 2},\n",
       " {'Person_1': -5, 'Person_3': 5},\n",
       " {'Person_1': 8, 'Person_2': -8}]"
      ]
     },
     "execution_count": 13,
     "metadata": {},
     "output_type": "execute_result"
    }
   ],
   "source": [
    "test_transactions"
   ]
  },
  {
   "cell_type": "markdown",
   "metadata": {},
   "source": [
    "### Updating State"
   ]
  },
  {
   "cell_type": "code",
   "execution_count": 14,
   "metadata": {
    "collapsed": true
   },
   "outputs": [],
   "source": [
    "def update_state(transaction, state):\n",
    "    state = state.copy()\n",
    "    for key in transaction:\n",
    "        state[key] = state.get(key, 0) + transaction[key]\n",
    "    return state"
   ]
  },
  {
   "cell_type": "code",
   "execution_count": 15,
   "metadata": {
    "collapsed": true
   },
   "outputs": [],
   "source": [
    "for transaction in test_transactions:\n",
    "    state = update_state(transaction, state)"
   ]
  },
  {
   "cell_type": "code",
   "execution_count": 16,
   "metadata": {},
   "outputs": [
    {
     "data": {
      "text/plain": [
       "{'Person_1': 103,\n",
       " 'Person_2': 106,\n",
       " 'Person_3': 96,\n",
       " 'Person_4': 102,\n",
       " 'Person_5': 93}"
      ]
     },
     "execution_count": 16,
     "metadata": {},
     "output_type": "execute_result"
    }
   ],
   "source": [
    "state"
   ]
  },
  {
   "cell_type": "markdown",
   "metadata": {},
   "source": [
    "### Valid Transactions"
   ]
  },
  {
   "cell_type": "code",
   "execution_count": 17,
   "metadata": {
    "collapsed": true
   },
   "outputs": [],
   "source": [
    "def check_transaction_validity(transaction, state):\n",
    "    # check neg vs pos\n",
    "    if sum(transaction.values()) is not 0:\n",
    "        return False\n",
    "    # check if amount in wallet to give\n",
    "    for key in transaction.keys():\n",
    "        if state.get(key, 0) + transaction[key] < 0:\n",
    "            return False\n",
    "    return True"
   ]
  },
  {
   "cell_type": "code",
   "execution_count": 18,
   "metadata": {},
   "outputs": [
    {
     "name": "stdout",
     "output_type": "stream",
     "text": [
      "True\n",
      "True\n",
      "True\n",
      "True\n",
      "True\n"
     ]
    }
   ],
   "source": [
    "for transaction in test_transactions:\n",
    "    print (check_transaction_validity(transaction, state))"
   ]
  },
  {
   "cell_type": "code",
   "execution_count": 19,
   "metadata": {},
   "outputs": [
    {
     "name": "stdout",
     "output_type": "stream",
     "text": [
      "False\n"
     ]
    }
   ],
   "source": [
    "# No balance\n",
    "print (check_transaction_validity({'A': 5, 'B': -5}, {'A': 0, 'B': 0}))"
   ]
  },
  {
   "cell_type": "code",
   "execution_count": 20,
   "metadata": {},
   "outputs": [
    {
     "name": "stdout",
     "output_type": "stream",
     "text": [
      "False\n"
     ]
    }
   ],
   "source": [
    "# Bad transaction\n",
    "print (check_transaction_validity({'A': 5, 'B': 5}, {'A': 50, 'B': 50}))"
   ]
  },
  {
   "cell_type": "markdown",
   "metadata": {},
   "source": [
    "### Initial State"
   ]
  },
  {
   "cell_type": "code",
   "execution_count": 21,
   "metadata": {
    "collapsed": true
   },
   "outputs": [],
   "source": [
    "# Let us reset\n",
    "# Lets assume 5 person were given 100 coins each\n",
    "state = {\n",
    "    'Person_1': 100, \n",
    "    'Person_2': 100, \n",
    "    'Person_3': 100, \n",
    "    'Person_4': 100, \n",
    "    'Person_5': 100\n",
    "}\n",
    "\n",
    "blockchain = []"
   ]
  },
  {
   "cell_type": "code",
   "execution_count": 22,
   "metadata": {
    "collapsed": true
   },
   "outputs": [],
   "source": [
    "# Adding the genesis block\n",
    "blockchain.append(block0)"
   ]
  },
  {
   "cell_type": "code",
   "execution_count": 23,
   "metadata": {},
   "outputs": [
    {
     "data": {
      "text/plain": [
       "[{'data': {'index': 0,\n",
       "   'nonce': 580379,\n",
       "   'previous': None,\n",
       "   'timestamp': datetime.datetime(2019, 1, 25, 15, 42, 26, 890029),\n",
       "   'transactions': [{'Person_1': 100,\n",
       "     'Person_2': 100,\n",
       "     'Person_3': 100,\n",
       "     'Person_4': 100,\n",
       "     'Person_5': 100}]},\n",
       "  'hash': '000002a84157c34546b666af4ff2684cc386be3e511d34a13946996b2a6aafa2'}]"
      ]
     },
     "execution_count": 23,
     "metadata": {},
     "output_type": "execute_result"
    }
   ],
   "source": [
    "blockchain"
   ]
  },
  {
   "cell_type": "markdown",
   "metadata": {},
   "source": [
    "### Non-genesis block / New block"
   ]
  },
  {
   "cell_type": "code",
   "execution_count": 24,
   "metadata": {
    "collapsed": true
   },
   "outputs": [],
   "source": [
    "def new_block(transactions, blockchain):\n",
    "    previous_block = blockchain[-1]\n",
    "    data = {\n",
    "        'timestamp': datetime.datetime.now(),\n",
    "        'index': previous_block['data']['index'] + 1,\n",
    "        'previous': previous_block['hash'],\n",
    "        'transactions': transactions,\n",
    "        'nonce': 0\n",
    "        }\n",
    "    \n",
    "    raw, hashed = hash_sha256_nonce(data)\n",
    "    block = {'hash': hashed, 'data': raw}\n",
    "    return block"
   ]
  },
  {
   "cell_type": "code",
   "execution_count": 25,
   "metadata": {
    "collapsed": true
   },
   "outputs": [],
   "source": [
    "sample_transactions = [random_transaction(state) for x in range(50)]"
   ]
  },
  {
   "cell_type": "code",
   "execution_count": 26,
   "metadata": {
    "scrolled": true
   },
   "outputs": [
    {
     "data": {
      "text/plain": [
       "[{'Person_1': 5, 'Person_4': -5},\n",
       " {'Person_4': 5, 'Person_5': -5},\n",
       " {'Person_1': -9, 'Person_5': 9},\n",
       " {'Person_4': 3, 'Person_5': -3},\n",
       " {'Person_1': 1, 'Person_5': -1},\n",
       " {'Person_3': -8, 'Person_4': 8},\n",
       " {'Person_3': -5, 'Person_5': 5},\n",
       " {'Person_1': 2, 'Person_4': -2},\n",
       " {'Person_3': 9, 'Person_4': -9},\n",
       " {'Person_1': -4, 'Person_5': 4},\n",
       " {'Person_1': -9, 'Person_4': 9},\n",
       " {'Person_1': -10, 'Person_5': 10},\n",
       " {'Person_2': -7, 'Person_3': 7},\n",
       " {'Person_3': 6, 'Person_5': -6},\n",
       " {'Person_2': -5, 'Person_5': 5},\n",
       " {'Person_4': -10, 'Person_5': 10},\n",
       " {'Person_2': 1, 'Person_3': -1},\n",
       " {'Person_3': 3, 'Person_4': -3},\n",
       " {'Person_2': -3, 'Person_4': 3},\n",
       " {'Person_1': -5, 'Person_4': 5},\n",
       " {'Person_1': -7, 'Person_4': 7},\n",
       " {'Person_1': -4, 'Person_2': 4},\n",
       " {'Person_3': -2, 'Person_4': 2},\n",
       " {'Person_1': -10, 'Person_4': 10},\n",
       " {'Person_1': -1, 'Person_2': 1},\n",
       " {'Person_1': -5, 'Person_3': 5},\n",
       " {'Person_1': -9, 'Person_4': 9},\n",
       " {'Person_3': 4, 'Person_5': -4},\n",
       " {'Person_1': 6, 'Person_2': -6},\n",
       " {'Person_2': -2, 'Person_5': 2},\n",
       " {'Person_3': -9, 'Person_4': 9},\n",
       " {'Person_4': 9, 'Person_5': -9},\n",
       " {'Person_2': -5, 'Person_4': 5},\n",
       " {'Person_1': -8, 'Person_5': 8},\n",
       " {'Person_3': -10, 'Person_4': 10},\n",
       " {'Person_2': 10, 'Person_3': -10},\n",
       " {'Person_1': -9, 'Person_2': 9},\n",
       " {'Person_2': -5, 'Person_4': 5},\n",
       " {'Person_3': -2, 'Person_5': 2},\n",
       " {'Person_4': 8, 'Person_5': -8},\n",
       " {'Person_2': -6, 'Person_5': 6},\n",
       " {'Person_1': -4, 'Person_4': 4},\n",
       " {'Person_3': 6, 'Person_4': -6},\n",
       " {'Person_1': 8, 'Person_2': -8},\n",
       " {'Person_4': 10, 'Person_5': -10},\n",
       " {'Person_4': -7, 'Person_5': 7},\n",
       " {'Person_1': -1, 'Person_4': 1},\n",
       " {'Person_1': -5, 'Person_5': 5},\n",
       " {'Person_3': 8, 'Person_4': -8},\n",
       " {'Person_1': -2, 'Person_5': 2}]"
      ]
     },
     "execution_count": 26,
     "metadata": {},
     "output_type": "execute_result"
    }
   ],
   "source": [
    "sample_transactions"
   ]
  },
  {
   "cell_type": "markdown",
   "metadata": {},
   "source": [
    "### Transactions per block"
   ]
  },
  {
   "cell_type": "markdown",
   "metadata": {},
   "source": [
    "Bitcoin blocks used to contain fewer than 200 transactions and the largest number of transactions in a block was 1,976 at the time this answer was originally written (May 2013). In meanwhile (November 2017) the average number of transaction per block is well above 1500 with peaks above 2200."
   ]
  },
  {
   "cell_type": "code",
   "execution_count": 27,
   "metadata": {
    "collapsed": true
   },
   "outputs": [],
   "source": [
    "# Although block size is \n",
    "transactions_per_block = 5\n",
    "transaction_block = []\n",
    "\n",
    "for transaction in sample_transactions:\n",
    "    if check_transaction_validity(transaction, state):\n",
    "        state = update_state(transaction, state)\n",
    "        transaction_block.append(transaction)\n",
    "        \n",
    "        if len(transaction_block) >= transactions_per_block:\n",
    "            blockchain.append(new_block(transaction_block, blockchain))\n",
    "            transaction_block = []"
   ]
  },
  {
   "cell_type": "code",
   "execution_count": 28,
   "metadata": {
    "scrolled": false
   },
   "outputs": [
    {
     "name": "stdout",
     "output_type": "stream",
     "text": [
      "{'data': {'index': 0,\n",
      "          'nonce': 580379,\n",
      "          'previous': None,\n",
      "          'timestamp': datetime.datetime(2019, 1, 25, 15, 42, 26, 890029),\n",
      "          'transactions': [{'Person_1': 100,\n",
      "                            'Person_2': 100,\n",
      "                            'Person_3': 100,\n",
      "                            'Person_4': 100,\n",
      "                            'Person_5': 100}]},\n",
      " 'hash': '000002a84157c34546b666af4ff2684cc386be3e511d34a13946996b2a6aafa2'}\n",
      "\n",
      "************************************************************************************\n",
      "\n",
      "{'data': {'index': 1,\n",
      "          'nonce': 1392463,\n",
      "          'previous': '000002a84157c34546b666af4ff2684cc386be3e511d34a13946996b2a6aafa2',\n",
      "          'timestamp': datetime.datetime(2019, 1, 25, 15, 42, 34, 692512),\n",
      "          'transactions': [{'Person_1': 5, 'Person_4': -5},\n",
      "                           {'Person_4': 5, 'Person_5': -5},\n",
      "                           {'Person_1': -9, 'Person_5': 9},\n",
      "                           {'Person_4': 3, 'Person_5': -3},\n",
      "                           {'Person_1': 1, 'Person_5': -1}]},\n",
      " 'hash': '00000c9d676dbf0c0da8285fe56afd2e3620d3c721043686d217b997255410e0'}\n",
      "\n",
      "************************************************************************************\n",
      "\n",
      "{'data': {'index': 2,\n",
      "          'nonce': 902443,\n",
      "          'previous': '00000c9d676dbf0c0da8285fe56afd2e3620d3c721043686d217b997255410e0',\n",
      "          'timestamp': datetime.datetime(2019, 1, 25, 15, 43, 7, 183332),\n",
      "          'transactions': [{'Person_3': -8, 'Person_4': 8},\n",
      "                           {'Person_3': -5, 'Person_5': 5},\n",
      "                           {'Person_1': 2, 'Person_4': -2},\n",
      "                           {'Person_3': 9, 'Person_4': -9},\n",
      "                           {'Person_1': -4, 'Person_5': 4}]},\n",
      " 'hash': '00000b26f4fd240988410dd552910b928b7ab44dedecb72f2aed7acd9ca02c67'}\n",
      "\n",
      "************************************************************************************\n",
      "\n",
      "{'data': {'index': 3,\n",
      "          'nonce': 70549,\n",
      "          'previous': '00000b26f4fd240988410dd552910b928b7ab44dedecb72f2aed7acd9ca02c67',\n",
      "          'timestamp': datetime.datetime(2019, 1, 25, 15, 43, 28, 768587),\n",
      "          'transactions': [{'Person_1': -9, 'Person_4': 9},\n",
      "                           {'Person_1': -10, 'Person_5': 10},\n",
      "                           {'Person_2': -7, 'Person_3': 7},\n",
      "                           {'Person_3': 6, 'Person_5': -6},\n",
      "                           {'Person_2': -5, 'Person_5': 5}]},\n",
      " 'hash': '000008666dc00a68bbacca58fea25fa6667cf1ea87aa5eab02f3e7e46b63b93b'}\n",
      "\n",
      "************************************************************************************\n",
      "\n",
      "{'data': {'index': 4,\n",
      "          'nonce': 58575,\n",
      "          'previous': '000008666dc00a68bbacca58fea25fa6667cf1ea87aa5eab02f3e7e46b63b93b',\n",
      "          'timestamp': datetime.datetime(2019, 1, 25, 15, 43, 29, 893438),\n",
      "          'transactions': [{'Person_4': -10, 'Person_5': 10},\n",
      "                           {'Person_2': 1, 'Person_3': -1},\n",
      "                           {'Person_3': 3, 'Person_4': -3},\n",
      "                           {'Person_2': -3, 'Person_4': 3},\n",
      "                           {'Person_1': -5, 'Person_4': 5}]},\n",
      " 'hash': '0000047f72c52a771cbd5c175c51806c0120fa7fd2fda0d5ece4f452ee29e6dd'}\n",
      "\n",
      "************************************************************************************\n",
      "\n",
      "{'data': {'index': 5,\n",
      "          'nonce': 392262,\n",
      "          'previous': '0000047f72c52a771cbd5c175c51806c0120fa7fd2fda0d5ece4f452ee29e6dd',\n",
      "          'timestamp': datetime.datetime(2019, 1, 25, 15, 43, 30, 868918),\n",
      "          'transactions': [{'Person_1': -7, 'Person_4': 7},\n",
      "                           {'Person_1': -4, 'Person_2': 4},\n",
      "                           {'Person_3': -2, 'Person_4': 2},\n",
      "                           {'Person_1': -10, 'Person_4': 10},\n",
      "                           {'Person_1': -1, 'Person_2': 1}]},\n",
      " 'hash': '0000050eeb55c9a78ef17a92df66af0ebab693b21f3acec3c7b2cb465a9f4e54'}\n",
      "\n",
      "************************************************************************************\n",
      "\n",
      "{'data': {'index': 6,\n",
      "          'nonce': 25039,\n",
      "          'previous': '0000050eeb55c9a78ef17a92df66af0ebab693b21f3acec3c7b2cb465a9f4e54',\n",
      "          'timestamp': datetime.datetime(2019, 1, 25, 15, 43, 39, 170174),\n",
      "          'transactions': [{'Person_1': -5, 'Person_3': 5},\n",
      "                           {'Person_1': -9, 'Person_4': 9},\n",
      "                           {'Person_3': 4, 'Person_5': -4},\n",
      "                           {'Person_1': 6, 'Person_2': -6},\n",
      "                           {'Person_2': -2, 'Person_5': 2}]},\n",
      " 'hash': '0000040448ca25d16bfa78f5aea31560a58e550e6b1fdd03beb867578ec9c6a5'}\n",
      "\n",
      "************************************************************************************\n",
      "\n",
      "{'data': {'index': 7,\n",
      "          'nonce': 774491,\n",
      "          'previous': '0000040448ca25d16bfa78f5aea31560a58e550e6b1fdd03beb867578ec9c6a5',\n",
      "          'timestamp': datetime.datetime(2019, 1, 25, 15, 43, 39, 743522),\n",
      "          'transactions': [{'Person_3': -9, 'Person_4': 9},\n",
      "                           {'Person_4': 9, 'Person_5': -9},\n",
      "                           {'Person_2': -5, 'Person_4': 5},\n",
      "                           {'Person_1': -8, 'Person_5': 8},\n",
      "                           {'Person_3': -10, 'Person_4': 10}]},\n",
      " 'hash': '0000018e1a2953531ce3165f49d5415e528471e9e17a2502d6912b94e826e204'}\n",
      "\n",
      "************************************************************************************\n",
      "\n",
      "{'data': {'index': 8,\n",
      "          'nonce': 2327471,\n",
      "          'previous': '0000018e1a2953531ce3165f49d5415e528471e9e17a2502d6912b94e826e204',\n",
      "          'timestamp': datetime.datetime(2019, 1, 25, 15, 43, 56, 860261),\n",
      "          'transactions': [{'Person_2': 10, 'Person_3': -10},\n",
      "                           {'Person_1': -9, 'Person_2': 9},\n",
      "                           {'Person_2': -5, 'Person_4': 5},\n",
      "                           {'Person_3': -2, 'Person_5': 2},\n",
      "                           {'Person_4': 8, 'Person_5': -8}]},\n",
      " 'hash': '00000994800a90374433e3788fc3619781b4d314aa9414ca8fcbefdfdba5d633'}\n",
      "\n",
      "************************************************************************************\n",
      "\n",
      "{'data': {'index': 9,\n",
      "          'nonce': 559524,\n",
      "          'previous': '00000994800a90374433e3788fc3619781b4d314aa9414ca8fcbefdfdba5d633',\n",
      "          'timestamp': datetime.datetime(2019, 1, 25, 15, 44, 50, 579577),\n",
      "          'transactions': [{'Person_2': -6, 'Person_5': 6},\n",
      "                           {'Person_1': -4, 'Person_4': 4},\n",
      "                           {'Person_3': 6, 'Person_4': -6},\n",
      "                           {'Person_1': 8, 'Person_2': -8},\n",
      "                           {'Person_4': 10, 'Person_5': -10}]},\n",
      " 'hash': '00000c4c8e9fb4952037b25620c5257dbb63de1ce8a10e20f990bec84e4aa85c'}\n",
      "\n",
      "************************************************************************************\n",
      "\n",
      "{'data': {'index': 10,\n",
      "          'nonce': 81261,\n",
      "          'previous': '00000c4c8e9fb4952037b25620c5257dbb63de1ce8a10e20f990bec84e4aa85c',\n",
      "          'timestamp': datetime.datetime(2019, 1, 25, 15, 45, 2, 525562),\n",
      "          'transactions': [{'Person_4': -7, 'Person_5': 7},\n",
      "                           {'Person_1': -1, 'Person_4': 1},\n",
      "                           {'Person_1': -5, 'Person_5': 5},\n",
      "                           {'Person_3': 8, 'Person_4': -8},\n",
      "                           {'Person_1': -2, 'Person_5': 2}]},\n",
      " 'hash': '0000068b76241f4eb82e62bd87ada2426378b8917693c67d50a93521a48e7f0a'}\n",
      "\n",
      "************************************************************************************\n",
      "\n"
     ]
    }
   ],
   "source": [
    "import pprint\n",
    "pp = pprint.PrettyPrinter()\n",
    "for block in blockchain:\n",
    "    pp.pprint(block)\n",
    "    print('\\n************************************************************************************\\n')"
   ]
  },
  {
   "cell_type": "markdown",
   "metadata": {},
   "source": [
    "### The current state\n",
    "#### Syncing for the first time"
   ]
  },
  {
   "cell_type": "code",
   "execution_count": 29,
   "metadata": {
    "collapsed": true
   },
   "outputs": [],
   "source": [
    "def validate_block(block, parent, state):    \n",
    "    error_msg = 'Error in %d' % block['data']['index']\n",
    "\n",
    "    # check block hash\n",
    "    assert block['hash'] == hash_sha256(block['data']), error_msg\n",
    "\n",
    "    # check block indices\n",
    "    assert block['data']['index'] == parent['data']['index'] + 1, error_msg\n",
    "\n",
    "    # check previous hash\n",
    "    assert block['data']['previous'] == parent['hash'], error_msg\n",
    "    \n",
    "    # validate all transactions\n",
    "    for transaction in block['data']['transactions']:\n",
    "        assert check_transaction_validity(transaction, state), error_msg\n",
    "        state = update_state(transaction, state)\n",
    "        \n",
    "    return state"
   ]
  },
  {
   "cell_type": "code",
   "execution_count": 30,
   "metadata": {},
   "outputs": [
    {
     "data": {
      "text/plain": [
       "{'Person_1': 20,\n",
       " 'Person_2': 78,\n",
       " 'Person_3': 101,\n",
       " 'Person_4': 172,\n",
       " 'Person_5': 129}"
      ]
     },
     "execution_count": 30,
     "metadata": {},
     "output_type": "execute_result"
    }
   ],
   "source": [
    "def check_chain(blockchain):\n",
    "    state = {}\n",
    "\n",
    "    for transaction in blockchain[0]['data']['transactions']:\n",
    "        state = update_state(transaction, state)\n",
    "\n",
    "    parent = blockchain[0]\n",
    "    \n",
    "    for block in blockchain[1:]:\n",
    "        state = validate_block(block, parent, state)\n",
    "        parent = block\n",
    "\n",
    "    return state\n",
    "\n",
    "check_chain(blockchain)"
   ]
  },
  {
   "cell_type": "code",
   "execution_count": null,
   "metadata": {
    "collapsed": true
   },
   "outputs": [],
   "source": []
  }
 ],
 "metadata": {
  "kernelspec": {
   "display_name": "Python 3",
   "language": "python",
   "name": "python3"
  },
  "language_info": {
   "codemirror_mode": {
    "name": "ipython",
    "version": 3
   },
   "file_extension": ".py",
   "mimetype": "text/x-python",
   "name": "python",
   "nbconvert_exporter": "python",
   "pygments_lexer": "ipython3",
   "version": "3.6.3"
  }
 },
 "nbformat": 4,
 "nbformat_minor": 2
}
