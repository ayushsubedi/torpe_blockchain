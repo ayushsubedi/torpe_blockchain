{
 "cells": [
  {
   "cell_type": "markdown",
   "metadata": {},
   "source": [
    "# Torpe Blockchain (तोर्पे ब्लोक्कचैन)\n",
    "### A minimal blockchain data structure to understand the blockchain basics like hashing, nonce, states, genesis blocks etc."
   ]
  },
  {
   "cell_type": "markdown",
   "metadata": {},
   "source": [
    "![title](blockchain.jpg)"
   ]
  },
  {
   "cell_type": "markdown",
   "metadata": {},
   "source": [
    "### Hash Function"
   ]
  },
  {
   "cell_type": "code",
   "execution_count": 1,
   "metadata": {
    "collapsed": true
   },
   "outputs": [],
   "source": [
    "import hashlib\n",
    "def hash_sha256(raw):\n",
    "    raw = str(raw).encode('utf-8')\n",
    "    return hashlib.sha256(raw).hexdigest() "
   ]
  },
  {
   "cell_type": "code",
   "execution_count": 2,
   "metadata": {},
   "outputs": [
    {
     "data": {
      "text/plain": [
       "'e5367197a1f12480ec761306f2fa9d15b494d5a80e5a806713df9e60943f4faf'"
      ]
     },
     "execution_count": 2,
     "metadata": {},
     "output_type": "execute_result"
    }
   ],
   "source": [
    "hash_sha256('torpe_blockchain')"
   ]
  },
  {
   "cell_type": "code",
   "execution_count": 3,
   "metadata": {},
   "outputs": [
    {
     "data": {
      "text/plain": [
       "'e5367197a1f12480ec761306f2fa9d15b494d5a80e5a806713df9e60943f4faf'"
      ]
     },
     "execution_count": 3,
     "metadata": {},
     "output_type": "execute_result"
    }
   ],
   "source": [
    "hash_sha256('torpe_blockchain')"
   ]
  },
  {
   "cell_type": "code",
   "execution_count": 4,
   "metadata": {},
   "outputs": [
    {
     "data": {
      "text/plain": [
       "'35ba7e0c2afd3e1175399e99c7e307ea78e62c9dd6e3cb39afc9604043a55e4b'"
      ]
     },
     "execution_count": 4,
     "metadata": {},
     "output_type": "execute_result"
    }
   ],
   "source": [
    "hash_sha256('monkey_brain')"
   ]
  },
  {
   "cell_type": "markdown",
   "metadata": {},
   "source": [
    "SHA-256 collisions have not been found yet. "
   ]
  },
  {
   "cell_type": "markdown",
   "metadata": {},
   "source": [
    "### Nonce"
   ]
  },
  {
   "cell_type": "markdown",
   "metadata": {},
   "source": [
    "> Number that can only be used once\n",
    "\n",
    "An arbitrary numer used in cryptography to ensure uniqueness and prevent the rerunning of transactions (known as replay attack). "
   ]
  },
  {
   "cell_type": "code",
   "execution_count": 5,
   "metadata": {
    "collapsed": true
   },
   "outputs": [],
   "source": [
    "def hash_sha256_nonce(raw):\n",
    "    raw_bytes = str(raw).encode('utf-8')\n",
    "    hashed = hashlib.sha256(raw_bytes).hexdigest() \n",
    "    nonce = 0\n",
    "    while (hashed[:5] != '00000'):\n",
    "        nonce = nonce+1\n",
    "        raw.update({'nonce': nonce})\n",
    "        raw_bytes = str(raw).encode('utf-8')\n",
    "        hashed = hashlib.sha256(raw_bytes).hexdigest() \n",
    "    return raw, hashed"
   ]
  },
  {
   "cell_type": "code",
   "execution_count": 6,
   "metadata": {},
   "outputs": [
    {
     "name": "stdout",
     "output_type": "stream",
     "text": [
      "({'nonce': 396548}, '0000063b8bbf3f9ebfecf2b47c1f0e0aedf0d74a8480d47e6c1dab5e647ea991')\n"
     ]
    }
   ],
   "source": [
    "print (hash_sha256_nonce({'nonce': 0}))"
   ]
  },
  {
   "cell_type": "markdown",
   "metadata": {},
   "source": [
    "## Block"
   ]
  },
  {
   "cell_type": "markdown",
   "metadata": {},
   "source": [
    "Blocks hold batches of valid transactions that are hashed and encoded into a Merkle tree Each block includes the cryptographic hash of the prior block in the blockchain, linking the two. The linked blocks form a chain. This iterative process confirms the integrity of the previous block, all the way back to the original genesis block."
   ]
  },
  {
   "cell_type": "markdown",
   "metadata": {},
   "source": [
    "### Genesis Block"
   ]
  },
  {
   "cell_type": "markdown",
   "metadata": {},
   "source": [
    "A genesis block or block0 is the first block of a block chain. The genesis block is almost always hardcoded into the software of the applications that utilize its block chain. It is a special case in that it does not reference a previous block"
   ]
  },
  {
   "cell_type": "code",
   "execution_count": 7,
   "metadata": {
    "collapsed": true
   },
   "outputs": [],
   "source": [
    "import datetime"
   ]
  },
  {
   "cell_type": "code",
   "execution_count": 8,
   "metadata": {
    "collapsed": true
   },
   "outputs": [],
   "source": [
    "# Lets assume 5 person were given 100 coins each\n",
    "state = {\n",
    "    'Person_1': 100, \n",
    "    'Person_2': 100, \n",
    "    'Person_3': 100, \n",
    "    'Person_4': 100, \n",
    "    'Person_5': 100\n",
    "}"
   ]
  },
  {
   "cell_type": "code",
   "execution_count": 9,
   "metadata": {},
   "outputs": [],
   "source": [
    "block0_data = {\n",
    "    'timestamp': datetime.datetime.now(),\n",
    "    'index': 0,\n",
    "    'previous': None,\n",
    "    'transactions': [state], \n",
    "    'nonce': 0\n",
    "}\n",
    "\n",
    "raw, hashed = hash_sha256_nonce(block0_data)\n",
    "block0 = {\n",
    "    'hash': hashed,\n",
    "    'data': raw,\n",
    "}"
   ]
  },
  {
   "cell_type": "code",
   "execution_count": 10,
   "metadata": {},
   "outputs": [
    {
     "data": {
      "text/plain": [
       "{'data': {'index': 0,\n",
       "  'nonce': 208993,\n",
       "  'previous': None,\n",
       "  'timestamp': datetime.datetime(2019, 1, 24, 23, 42, 18, 132177),\n",
       "  'transactions': [{'Person_1': 100,\n",
       "    'Person_2': 100,\n",
       "    'Person_3': 100,\n",
       "    'Person_4': 100,\n",
       "    'Person_5': 100}]},\n",
       " 'hash': '00000d0bafe93f33ae8bf8ec4e2d5033a64529bcb0ead9c9226ba2180329d88e'}"
      ]
     },
     "execution_count": 10,
     "metadata": {},
     "output_type": "execute_result"
    }
   ],
   "source": [
    "block0"
   ]
  },
  {
   "cell_type": "markdown",
   "metadata": {},
   "source": [
    "This is the genesis block or block 0 here."
   ]
  },
  {
   "cell_type": "markdown",
   "metadata": {},
   "source": [
    "### Transactions"
   ]
  },
  {
   "cell_type": "code",
   "execution_count": 11,
   "metadata": {
    "collapsed": true
   },
   "outputs": [],
   "source": [
    "import random\n",
    "def random_transaction(state):\n",
    "    temp_list = list(state.keys())\n",
    "    random.shuffle(temp_list)\n",
    "    # randomly select two persons\n",
    "    first_person = temp_list.pop()\n",
    "    second_person = temp_list.pop()\n",
    "    receive = random.randint(1, 10)\n",
    "    give = -receive\n",
    "    return {\n",
    "        first_person:receive, \n",
    "        second_person:give\n",
    "    }"
   ]
  },
  {
   "cell_type": "code",
   "execution_count": 12,
   "metadata": {
    "collapsed": true
   },
   "outputs": [],
   "source": [
    "test_transactions = [random_transaction(state) for x in range(5)]"
   ]
  },
  {
   "cell_type": "code",
   "execution_count": 13,
   "metadata": {},
   "outputs": [
    {
     "data": {
      "text/plain": [
       "[{'Person_2': -8, 'Person_3': 8},\n",
       " {'Person_2': -9, 'Person_5': 9},\n",
       " {'Person_2': -10, 'Person_5': 10},\n",
       " {'Person_2': -8, 'Person_3': 8},\n",
       " {'Person_2': -2, 'Person_5': 2}]"
      ]
     },
     "execution_count": 13,
     "metadata": {},
     "output_type": "execute_result"
    }
   ],
   "source": [
    "test_transactions"
   ]
  },
  {
   "cell_type": "markdown",
   "metadata": {},
   "source": [
    "### Updating State"
   ]
  },
  {
   "cell_type": "code",
   "execution_count": 14,
   "metadata": {
    "collapsed": true
   },
   "outputs": [],
   "source": [
    "def update_state(transaction, state):\n",
    "    state = state.copy()\n",
    "    for key in transaction:\n",
    "        state[key] = state.get(key, 0) + transaction[key]\n",
    "    return state"
   ]
  },
  {
   "cell_type": "code",
   "execution_count": 15,
   "metadata": {
    "collapsed": true
   },
   "outputs": [],
   "source": [
    "for transaction in test_transactions:\n",
    "    state = update_state(transaction, state)"
   ]
  },
  {
   "cell_type": "code",
   "execution_count": 16,
   "metadata": {},
   "outputs": [
    {
     "data": {
      "text/plain": [
       "{'Person_1': 100,\n",
       " 'Person_2': 63,\n",
       " 'Person_3': 116,\n",
       " 'Person_4': 100,\n",
       " 'Person_5': 121}"
      ]
     },
     "execution_count": 16,
     "metadata": {},
     "output_type": "execute_result"
    }
   ],
   "source": [
    "state"
   ]
  },
  {
   "cell_type": "markdown",
   "metadata": {},
   "source": [
    "### Valid Transactions"
   ]
  },
  {
   "cell_type": "code",
   "execution_count": 17,
   "metadata": {
    "collapsed": true
   },
   "outputs": [],
   "source": [
    "def check_transaction_validity(transaction, state):\n",
    "    # check neg vs pos\n",
    "    if sum(transaction.values()) is not 0:\n",
    "        return False\n",
    "    # check if amount in wallet to give\n",
    "    for key in transaction.keys():\n",
    "        if state.get(key, 0) + transaction[key] < 0:\n",
    "            return False\n",
    "    return True"
   ]
  },
  {
   "cell_type": "code",
   "execution_count": 18,
   "metadata": {},
   "outputs": [
    {
     "name": "stdout",
     "output_type": "stream",
     "text": [
      "True\n",
      "True\n",
      "True\n",
      "True\n",
      "True\n"
     ]
    }
   ],
   "source": [
    "for transaction in test_transactions:\n",
    "    print (check_transaction_validity(transaction, state))"
   ]
  },
  {
   "cell_type": "code",
   "execution_count": 19,
   "metadata": {},
   "outputs": [
    {
     "name": "stdout",
     "output_type": "stream",
     "text": [
      "False\n"
     ]
    }
   ],
   "source": [
    "# No balance\n",
    "print (check_transaction_validity({'A': 5, 'B': -5}, {'A': 0, 'B': 0}))"
   ]
  },
  {
   "cell_type": "code",
   "execution_count": 20,
   "metadata": {},
   "outputs": [
    {
     "name": "stdout",
     "output_type": "stream",
     "text": [
      "False\n"
     ]
    }
   ],
   "source": [
    "# Bad transaction\n",
    "print (check_transaction_validity({'A': 5, 'B': 5}, {'A': 50, 'B': 50}))"
   ]
  },
  {
   "cell_type": "markdown",
   "metadata": {},
   "source": [
    "### Initial State"
   ]
  },
  {
   "cell_type": "code",
   "execution_count": 21,
   "metadata": {
    "collapsed": true
   },
   "outputs": [],
   "source": [
    "# Let us reset\n",
    "# Lets assume 5 person were given 100 coins each\n",
    "state = {\n",
    "    'Person_1': 100, \n",
    "    'Person_2': 100, \n",
    "    'Person_3': 100, \n",
    "    'Person_4': 100, \n",
    "    'Person_5': 100\n",
    "}\n",
    "\n",
    "blockchain = []"
   ]
  },
  {
   "cell_type": "code",
   "execution_count": 22,
   "metadata": {
    "collapsed": true
   },
   "outputs": [],
   "source": [
    "# Adding the genesis block\n",
    "blockchain.append(block0)"
   ]
  },
  {
   "cell_type": "code",
   "execution_count": 23,
   "metadata": {},
   "outputs": [
    {
     "data": {
      "text/plain": [
       "[{'data': {'index': 0,\n",
       "   'nonce': 208993,\n",
       "   'previous': None,\n",
       "   'timestamp': datetime.datetime(2019, 1, 24, 23, 42, 18, 132177),\n",
       "   'transactions': [{'Person_1': 100,\n",
       "     'Person_2': 100,\n",
       "     'Person_3': 100,\n",
       "     'Person_4': 100,\n",
       "     'Person_5': 100}]},\n",
       "  'hash': '00000d0bafe93f33ae8bf8ec4e2d5033a64529bcb0ead9c9226ba2180329d88e'}]"
      ]
     },
     "execution_count": 23,
     "metadata": {},
     "output_type": "execute_result"
    }
   ],
   "source": [
    "blockchain"
   ]
  },
  {
   "cell_type": "markdown",
   "metadata": {},
   "source": [
    "### Non-genesis block / New block"
   ]
  },
  {
   "cell_type": "code",
   "execution_count": 24,
   "metadata": {
    "collapsed": true
   },
   "outputs": [],
   "source": [
    "def new_block(transactions, blockchain):\n",
    "    previous_block = blockchain[-1]\n",
    "    data = {\n",
    "        'timestamp': datetime.datetime.now(),\n",
    "        'index': previous_block['data']['index'] + 1,\n",
    "        'previous': previous_block['hash'],\n",
    "        'transactions': transactions,\n",
    "        'nonce': 0\n",
    "        }\n",
    "    \n",
    "    raw, hashed = hash_sha256_nonce(data)\n",
    "    block = {'hash': hashed, 'data': raw}\n",
    "    return block"
   ]
  },
  {
   "cell_type": "code",
   "execution_count": 25,
   "metadata": {
    "collapsed": true
   },
   "outputs": [],
   "source": [
    "sample_transactions = [random_transaction(state) for x in range(50)]"
   ]
  },
  {
   "cell_type": "code",
   "execution_count": 26,
   "metadata": {
    "scrolled": true
   },
   "outputs": [
    {
     "data": {
      "text/plain": [
       "[{'Person_3': -3, 'Person_5': 3},\n",
       " {'Person_2': 4, 'Person_5': -4},\n",
       " {'Person_1': -7, 'Person_5': 7},\n",
       " {'Person_1': 7, 'Person_2': -7},\n",
       " {'Person_1': -10, 'Person_4': 10},\n",
       " {'Person_2': -8, 'Person_3': 8},\n",
       " {'Person_1': -3, 'Person_2': 3},\n",
       " {'Person_4': -4, 'Person_5': 4},\n",
       " {'Person_1': 1, 'Person_5': -1},\n",
       " {'Person_2': 1, 'Person_5': -1},\n",
       " {'Person_2': -9, 'Person_5': 9},\n",
       " {'Person_2': -1, 'Person_3': 1},\n",
       " {'Person_2': 4, 'Person_3': -4},\n",
       " {'Person_1': 7, 'Person_4': -7},\n",
       " {'Person_4': 10, 'Person_5': -10},\n",
       " {'Person_1': 6, 'Person_4': -6},\n",
       " {'Person_1': 7, 'Person_4': -7},\n",
       " {'Person_1': 2, 'Person_3': -2},\n",
       " {'Person_3': -7, 'Person_4': 7},\n",
       " {'Person_2': -10, 'Person_4': 10},\n",
       " {'Person_4': -2, 'Person_5': 2},\n",
       " {'Person_2': 7, 'Person_5': -7},\n",
       " {'Person_1': -10, 'Person_2': 10},\n",
       " {'Person_1': 3, 'Person_5': -3},\n",
       " {'Person_3': -8, 'Person_4': 8},\n",
       " {'Person_1': -7, 'Person_4': 7},\n",
       " {'Person_3': -3, 'Person_4': 3},\n",
       " {'Person_2': 10, 'Person_4': -10},\n",
       " {'Person_1': -10, 'Person_5': 10},\n",
       " {'Person_1': -4, 'Person_5': 4},\n",
       " {'Person_3': -1, 'Person_5': 1},\n",
       " {'Person_3': 6, 'Person_4': -6},\n",
       " {'Person_4': 6, 'Person_5': -6},\n",
       " {'Person_2': 10, 'Person_5': -10},\n",
       " {'Person_3': 1, 'Person_4': -1},\n",
       " {'Person_2': 1, 'Person_3': -1},\n",
       " {'Person_2': 8, 'Person_4': -8},\n",
       " {'Person_2': -10, 'Person_5': 10},\n",
       " {'Person_2': -10, 'Person_3': 10},\n",
       " {'Person_2': -10, 'Person_4': 10},\n",
       " {'Person_4': 8, 'Person_5': -8},\n",
       " {'Person_1': -4, 'Person_4': 4},\n",
       " {'Person_3': 7, 'Person_5': -7},\n",
       " {'Person_3': -7, 'Person_5': 7},\n",
       " {'Person_2': 5, 'Person_3': -5},\n",
       " {'Person_3': 7, 'Person_5': -7},\n",
       " {'Person_3': -2, 'Person_4': 2},\n",
       " {'Person_2': -6, 'Person_3': 6},\n",
       " {'Person_1': -3, 'Person_3': 3},\n",
       " {'Person_4': 8, 'Person_5': -8}]"
      ]
     },
     "execution_count": 26,
     "metadata": {},
     "output_type": "execute_result"
    }
   ],
   "source": [
    "sample_transactions"
   ]
  },
  {
   "cell_type": "markdown",
   "metadata": {},
   "source": [
    "### Transactions per block"
   ]
  },
  {
   "cell_type": "markdown",
   "metadata": {},
   "source": [
    "Bitcoin blocks used to contain fewer than 200 transactions and the largest number of transactions in a block was 1,976 at the time this answer was originally written (May 2013). In meanwhile (November 2017) the average number of transaction per block is well above 1500 with peaks above 2200."
   ]
  },
  {
   "cell_type": "code",
   "execution_count": 27,
   "metadata": {},
   "outputs": [],
   "source": [
    "# Although block size is \n",
    "transactions_per_block = 5\n",
    "transaction_block = []\n",
    "\n",
    "for transaction in sample_transactions:\n",
    "    if check_transaction_validity(transaction, state):\n",
    "        state = update_state(transaction, state)\n",
    "        transaction_block.append(transaction)\n",
    "        \n",
    "        if len(transaction_block) >= transactions_per_block:\n",
    "            blockchain.append(new_block(transaction_block, blockchain))\n",
    "            transaction_block = []"
   ]
  },
  {
   "cell_type": "code",
   "execution_count": 28,
   "metadata": {
    "scrolled": false
   },
   "outputs": [
    {
     "name": "stdout",
     "output_type": "stream",
     "text": [
      "{'data': {'index': 0,\n",
      "          'nonce': 208993,\n",
      "          'previous': None,\n",
      "          'timestamp': datetime.datetime(2019, 1, 24, 23, 42, 18, 132177),\n",
      "          'transactions': [{'Person_1': 100,\n",
      "                            'Person_2': 100,\n",
      "                            'Person_3': 100,\n",
      "                            'Person_4': 100,\n",
      "                            'Person_5': 100}]},\n",
      " 'hash': '00000d0bafe93f33ae8bf8ec4e2d5033a64529bcb0ead9c9226ba2180329d88e'}\n",
      "\n",
      "************************************************************************************\n",
      "\n",
      "{'data': {'index': 1,\n",
      "          'nonce': 4353465,\n",
      "          'previous': '00000d0bafe93f33ae8bf8ec4e2d5033a64529bcb0ead9c9226ba2180329d88e',\n",
      "          'timestamp': datetime.datetime(2019, 1, 24, 23, 42, 19, 660606),\n",
      "          'transactions': [{'Person_3': -3, 'Person_5': 3},\n",
      "                           {'Person_2': 4, 'Person_5': -4},\n",
      "                           {'Person_1': -7, 'Person_5': 7},\n",
      "                           {'Person_1': 7, 'Person_2': -7},\n",
      "                           {'Person_1': -10, 'Person_4': 10}]},\n",
      " 'hash': '000002107b82611b53f6bad83e8be57936716f2d6b5a4ec952c513291de6f819'}\n",
      "\n",
      "************************************************************************************\n",
      "\n",
      "{'data': {'index': 2,\n",
      "          'nonce': 375225,\n",
      "          'previous': '000002107b82611b53f6bad83e8be57936716f2d6b5a4ec952c513291de6f819',\n",
      "          'timestamp': datetime.datetime(2019, 1, 24, 23, 42, 55, 435229),\n",
      "          'transactions': [{'Person_2': -8, 'Person_3': 8},\n",
      "                           {'Person_1': -3, 'Person_2': 3},\n",
      "                           {'Person_4': -4, 'Person_5': 4},\n",
      "                           {'Person_1': 1, 'Person_5': -1},\n",
      "                           {'Person_2': 1, 'Person_5': -1}]},\n",
      " 'hash': '00000e073dd7ac14d9a90ec7158995f97ece912b768a77ddd656fab9dcd3c322'}\n",
      "\n",
      "************************************************************************************\n",
      "\n",
      "{'data': {'index': 3,\n",
      "          'nonce': 92429,\n",
      "          'previous': '00000e073dd7ac14d9a90ec7158995f97ece912b768a77ddd656fab9dcd3c322',\n",
      "          'timestamp': datetime.datetime(2019, 1, 24, 23, 42, 58, 572588),\n",
      "          'transactions': [{'Person_2': -9, 'Person_5': 9},\n",
      "                           {'Person_2': -1, 'Person_3': 1},\n",
      "                           {'Person_2': 4, 'Person_3': -4},\n",
      "                           {'Person_1': 7, 'Person_4': -7},\n",
      "                           {'Person_4': 10, 'Person_5': -10}]},\n",
      " 'hash': '00000edc7cb2b0a4d9e420cae870dedaf7cc6b1b0d01a1c3cf9b87a8421cd2d6'}\n",
      "\n",
      "************************************************************************************\n",
      "\n",
      "{'data': {'index': 4,\n",
      "          'nonce': 472586,\n",
      "          'previous': '00000edc7cb2b0a4d9e420cae870dedaf7cc6b1b0d01a1c3cf9b87a8421cd2d6',\n",
      "          'timestamp': datetime.datetime(2019, 1, 24, 23, 42, 59, 341450),\n",
      "          'transactions': [{'Person_1': 6, 'Person_4': -6},\n",
      "                           {'Person_1': 7, 'Person_4': -7},\n",
      "                           {'Person_1': 2, 'Person_3': -2},\n",
      "                           {'Person_3': -7, 'Person_4': 7},\n",
      "                           {'Person_2': -10, 'Person_4': 10}]},\n",
      " 'hash': '00000b30b796375de4e9cfc7984cb6fba264eb08d4ae1ce8c4b5b50639fe03fd'}\n",
      "\n",
      "************************************************************************************\n",
      "\n",
      "{'data': {'index': 5,\n",
      "          'nonce': 2914267,\n",
      "          'previous': '00000b30b796375de4e9cfc7984cb6fba264eb08d4ae1ce8c4b5b50639fe03fd',\n",
      "          'timestamp': datetime.datetime(2019, 1, 24, 23, 43, 3, 221441),\n",
      "          'transactions': [{'Person_4': -2, 'Person_5': 2},\n",
      "                           {'Person_2': 7, 'Person_5': -7},\n",
      "                           {'Person_1': -10, 'Person_2': 10},\n",
      "                           {'Person_1': 3, 'Person_5': -3},\n",
      "                           {'Person_3': -8, 'Person_4': 8}]},\n",
      " 'hash': '00000ab5d3986439c40fc507af9b0dc0519f3185b2dedce971cfa73ecee62657'}\n",
      "\n",
      "************************************************************************************\n",
      "\n",
      "{'data': {'index': 6,\n",
      "          'nonce': 254381,\n",
      "          'previous': '00000ab5d3986439c40fc507af9b0dc0519f3185b2dedce971cfa73ecee62657',\n",
      "          'timestamp': datetime.datetime(2019, 1, 24, 23, 43, 27, 402409),\n",
      "          'transactions': [{'Person_1': -7, 'Person_4': 7},\n",
      "                           {'Person_3': -3, 'Person_4': 3},\n",
      "                           {'Person_2': 10, 'Person_4': -10},\n",
      "                           {'Person_1': -10, 'Person_5': 10},\n",
      "                           {'Person_1': -4, 'Person_5': 4}]},\n",
      " 'hash': '000000e802fe4bc155e710bc2001903adf2aed6c30540486846cc76db6caf3eb'}\n",
      "\n",
      "************************************************************************************\n",
      "\n",
      "{'data': {'index': 7,\n",
      "          'nonce': 962055,\n",
      "          'previous': '000000e802fe4bc155e710bc2001903adf2aed6c30540486846cc76db6caf3eb',\n",
      "          'timestamp': datetime.datetime(2019, 1, 24, 23, 43, 29, 684465),\n",
      "          'transactions': [{'Person_3': -1, 'Person_5': 1},\n",
      "                           {'Person_3': 6, 'Person_4': -6},\n",
      "                           {'Person_4': 6, 'Person_5': -6},\n",
      "                           {'Person_2': 10, 'Person_5': -10},\n",
      "                           {'Person_3': 1, 'Person_4': -1}]},\n",
      " 'hash': '000009b872825114413ad25a55658cfd9dc3e66a75ee2c68250bb8c31aa204f0'}\n",
      "\n",
      "************************************************************************************\n",
      "\n",
      "{'data': {'index': 8,\n",
      "          'nonce': 40016,\n",
      "          'previous': '000009b872825114413ad25a55658cfd9dc3e66a75ee2c68250bb8c31aa204f0',\n",
      "          'timestamp': datetime.datetime(2019, 1, 24, 23, 43, 37, 981072),\n",
      "          'transactions': [{'Person_2': 1, 'Person_3': -1},\n",
      "                           {'Person_2': 8, 'Person_4': -8},\n",
      "                           {'Person_2': -10, 'Person_5': 10},\n",
      "                           {'Person_2': -10, 'Person_3': 10},\n",
      "                           {'Person_2': -10, 'Person_4': 10}]},\n",
      " 'hash': '0000084d330098489816cf7084a0bbbeb83c971b804a4ed0b6ba4f51e28e378b'}\n",
      "\n",
      "************************************************************************************\n",
      "\n",
      "{'data': {'index': 9,\n",
      "          'nonce': 658775,\n",
      "          'previous': '0000084d330098489816cf7084a0bbbeb83c971b804a4ed0b6ba4f51e28e378b',\n",
      "          'timestamp': datetime.datetime(2019, 1, 24, 23, 43, 38, 323911),\n",
      "          'transactions': [{'Person_4': 8, 'Person_5': -8},\n",
      "                           {'Person_1': -4, 'Person_4': 4},\n",
      "                           {'Person_3': 7, 'Person_5': -7},\n",
      "                           {'Person_3': -7, 'Person_5': 7},\n",
      "                           {'Person_2': 5, 'Person_3': -5}]},\n",
      " 'hash': '0000072628228187d50b6cb3d602c4f55f657d4b727f06b10ba82c55970d8ea4'}\n",
      "\n",
      "************************************************************************************\n",
      "\n",
      "{'data': {'index': 10,\n",
      "          'nonce': 2068429,\n",
      "          'previous': '0000072628228187d50b6cb3d602c4f55f657d4b727f06b10ba82c55970d8ea4',\n",
      "          'timestamp': datetime.datetime(2019, 1, 24, 23, 43, 43, 695560),\n",
      "          'transactions': [{'Person_3': 7, 'Person_5': -7},\n",
      "                           {'Person_3': -2, 'Person_4': 2},\n",
      "                           {'Person_2': -6, 'Person_3': 6},\n",
      "                           {'Person_1': -3, 'Person_3': 3},\n",
      "                           {'Person_4': 8, 'Person_5': -8}]},\n",
      " 'hash': '0000067decb28875d575b77166b301d9f14daa333dcba2bba1afeb1d5ca18e74'}\n",
      "\n",
      "************************************************************************************\n",
      "\n"
     ]
    }
   ],
   "source": [
    "import pprint\n",
    "pp = pprint.PrettyPrinter()\n",
    "for block in blockchain:\n",
    "    pp.pprint(block)\n",
    "    print('\\n************************************************************************************\\n')"
   ]
  },
  {
   "cell_type": "markdown",
   "metadata": {},
   "source": [
    "### The current state\n",
    "#### Syncing for the first time"
   ]
  },
  {
   "cell_type": "code",
   "execution_count": 29,
   "metadata": {
    "collapsed": true
   },
   "outputs": [],
   "source": [
    "def validate_block(block, parent, state):    \n",
    "    error_msg = 'Error in %d' % block['data']['index']\n",
    "\n",
    "    # check block hash\n",
    "    assert block['hash'] == hash_sha256(block['data']), error_msg\n",
    "\n",
    "    # check block indices\n",
    "    assert block['data']['index'] == parent['data']['index'] + 1, error_msg\n",
    "\n",
    "    # check previous hash\n",
    "    assert block['data']['previous'] == parent['hash'], error_msg\n",
    "    \n",
    "    # validate all transactions\n",
    "    for transaction in block['data']['transactions']:\n",
    "        assert check_transaction_validity(transaction, state), error_msg\n",
    "        state = update_state(transaction, state)\n",
    "        \n",
    "    return state"
   ]
  },
  {
   "cell_type": "code",
   "execution_count": 30,
   "metadata": {},
   "outputs": [
    {
     "data": {
      "text/plain": [
       "{'Person_1': 75,\n",
       " 'Person_2': 92,\n",
       " 'Person_3': 106,\n",
       " 'Person_4': 142,\n",
       " 'Person_5': 85}"
      ]
     },
     "execution_count": 30,
     "metadata": {},
     "output_type": "execute_result"
    }
   ],
   "source": [
    "def check_chain(blockchain):\n",
    "    state = {}\n",
    "\n",
    "    for transaction in blockchain[0]['data']['transactions']:\n",
    "        state = update_state(transaction, state)\n",
    "\n",
    "    parent = blockchain[0]\n",
    "    \n",
    "    for block in blockchain[1:]:\n",
    "        state = validate_block(block, parent, state)\n",
    "        parent = block\n",
    "\n",
    "    return state\n",
    "\n",
    "check_chain(blockchain)"
   ]
  },
  {
   "cell_type": "code",
   "execution_count": null,
   "metadata": {
    "collapsed": true
   },
   "outputs": [],
   "source": []
  }
 ],
 "metadata": {
  "kernelspec": {
   "display_name": "Python 3",
   "language": "python",
   "name": "python3"
  },
  "language_info": {
   "codemirror_mode": {
    "name": "ipython",
    "version": 3
   },
   "file_extension": ".py",
   "mimetype": "text/x-python",
   "name": "python",
   "nbconvert_exporter": "python",
   "pygments_lexer": "ipython3",
   "version": "3.6.3"
  }
 },
 "nbformat": 4,
 "nbformat_minor": 2
}
