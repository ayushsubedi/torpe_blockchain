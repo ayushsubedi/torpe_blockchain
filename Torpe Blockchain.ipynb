{
 "cells": [
  {
   "cell_type": "markdown",
   "metadata": {},
   "source": [
    "# Torpe Blockchain (तोर्पे ब्लोक्कचैन)\n",
    "### A minimal blockchain data structure to understand the blockchain basics like hashing, nonce, states, genesis blocks etc."
   ]
  },
  {
   "cell_type": "markdown",
   "metadata": {},
   "source": [
    "![title](blockchain.jpg)"
   ]
  },
  {
   "cell_type": "markdown",
   "metadata": {},
   "source": [
    "### Hash Function"
   ]
  },
  {
   "cell_type": "code",
   "execution_count": 1,
   "metadata": {
    "collapsed": true
   },
   "outputs": [],
   "source": [
    "import hashlib\n",
    "def hash_sha256(raw):\n",
    "    raw = str(raw).encode('utf-8')\n",
    "    return hashlib.sha256(raw).hexdigest() "
   ]
  },
  {
   "cell_type": "code",
   "execution_count": 2,
   "metadata": {},
   "outputs": [
    {
     "data": {
      "text/plain": [
       "'e5367197a1f12480ec761306f2fa9d15b494d5a80e5a806713df9e60943f4faf'"
      ]
     },
     "execution_count": 2,
     "metadata": {},
     "output_type": "execute_result"
    }
   ],
   "source": [
    "hash_sha256('torpe_blockchain')"
   ]
  },
  {
   "cell_type": "code",
   "execution_count": 3,
   "metadata": {},
   "outputs": [
    {
     "data": {
      "text/plain": [
       "'e5367197a1f12480ec761306f2fa9d15b494d5a80e5a806713df9e60943f4faf'"
      ]
     },
     "execution_count": 3,
     "metadata": {},
     "output_type": "execute_result"
    }
   ],
   "source": [
    "hash_sha256('torpe_blockchain')"
   ]
  },
  {
   "cell_type": "code",
   "execution_count": 4,
   "metadata": {},
   "outputs": [
    {
     "data": {
      "text/plain": [
       "'84ea3e10b22776c8dabdb04a239069b34b41c9cf7090a72ca084534d134b2483'"
      ]
     },
     "execution_count": 4,
     "metadata": {},
     "output_type": "execute_result"
    }
   ],
   "source": [
    "hash_sha256({'message': 'hello', 'nonce': 164985})"
   ]
  },
  {
   "cell_type": "markdown",
   "metadata": {},
   "source": [
    "SHA-256 collisions have not been found yet. "
   ]
  },
  {
   "cell_type": "markdown",
   "metadata": {},
   "source": [
    "### Nonce"
   ]
  },
  {
   "cell_type": "markdown",
   "metadata": {},
   "source": [
    "> Number that can only be used once\n",
    "\n",
    "An arbitrary numer used in cryptography to ensure uniqueness and prevent the rerunning of transactions (known as replay attack). "
   ]
  },
  {
   "cell_type": "code",
   "execution_count": 5,
   "metadata": {
    "collapsed": true
   },
   "outputs": [],
   "source": [
    "def hash_sha256_nonce(raw):\n",
    "    raw_bytes = str(raw).encode('utf-8')\n",
    "    hashed = hashlib.sha256(raw_bytes).hexdigest() \n",
    "    nonce = 0\n",
    "    while (hashed[:5] != '00000'):\n",
    "        nonce = nonce+1\n",
    "        raw.update({'nonce': nonce})\n",
    "        raw_bytes = str(raw).encode('utf-8')\n",
    "        hashed = hashlib.sha256(raw_bytes).hexdigest() \n",
    "    return raw, hashed"
   ]
  },
  {
   "cell_type": "code",
   "execution_count": 6,
   "metadata": {},
   "outputs": [
    {
     "name": "stdout",
     "output_type": "stream",
     "text": [
      "({'princi': 'sweet', 'nonce': 164985}, '000002f2bc99545a10f7725f9e6ea7818313b9fb313c2f29fd9018a26e7120db')\n"
     ]
    }
   ],
   "source": [
    "print (hash_sha256_nonce({'princi': 'sweet', 'nonce': 0}))"
   ]
  },
  {
   "cell_type": "markdown",
   "metadata": {},
   "source": [
    "### Proof of work"
   ]
  },
  {
   "cell_type": "markdown",
   "metadata": {},
   "source": [
    "The proof of work for this case will be to generate hashes with five leading zeros (by incrementing the nonce). This is the \"mining\" part."
   ]
  },
  {
   "cell_type": "markdown",
   "metadata": {},
   "source": [
    "## Block"
   ]
  },
  {
   "cell_type": "markdown",
   "metadata": {},
   "source": [
    "Blocks hold batches of valid transactions that are hashed and encoded into a Merkle tree Each block includes the cryptographic hash of the prior block in the blockchain, linking the two. The linked blocks form a chain. This iterative process confirms the integrity of the previous block, all the way back to the original genesis block."
   ]
  },
  {
   "cell_type": "markdown",
   "metadata": {},
   "source": [
    "### Genesis Block"
   ]
  },
  {
   "cell_type": "markdown",
   "metadata": {},
   "source": [
    "A genesis block or block0 is the first block of a block chain. The genesis block is almost always hardcoded into the software of the applications that utilize its block chain. It is a special case in that it does not reference a previous block"
   ]
  },
  {
   "cell_type": "code",
   "execution_count": 7,
   "metadata": {
    "collapsed": true
   },
   "outputs": [],
   "source": [
    "import datetime"
   ]
  },
  {
   "cell_type": "code",
   "execution_count": 8,
   "metadata": {
    "collapsed": true
   },
   "outputs": [],
   "source": [
    "# Lets assume 5 person were given 100 coins each\n",
    "state = {\n",
    "    'Person_1': 100, \n",
    "    'Person_2': 100, \n",
    "    'Person_3': 100, \n",
    "    'Person_4': 100, \n",
    "    'Person_5': 100\n",
    "}"
   ]
  },
  {
   "cell_type": "code",
   "execution_count": 9,
   "metadata": {
    "collapsed": true
   },
   "outputs": [],
   "source": [
    "block0_data = {\n",
    "    'timestamp': datetime.datetime.now(),\n",
    "    'index': 0,\n",
    "    'previous': None,\n",
    "    'transactions': [state], \n",
    "    'nonce': 0\n",
    "}\n",
    "\n",
    "raw, hashed = hash_sha256_nonce(block0_data)\n",
    "block0 = {\n",
    "    'hash': hashed,\n",
    "    'data': raw,\n",
    "}"
   ]
  },
  {
   "cell_type": "code",
   "execution_count": 10,
   "metadata": {},
   "outputs": [
    {
     "data": {
      "text/plain": [
       "{'data': {'index': 0,\n",
       "  'nonce': 1986057,\n",
       "  'previous': None,\n",
       "  'timestamp': datetime.datetime(2019, 2, 9, 8, 47, 34, 543844),\n",
       "  'transactions': [{'Person_1': 100,\n",
       "    'Person_2': 100,\n",
       "    'Person_3': 100,\n",
       "    'Person_4': 100,\n",
       "    'Person_5': 100}]},\n",
       " 'hash': '0000089bfafed2ecf4e305fbc0bde671f234522ba5cf52f51d4796b5b353e2cb'}"
      ]
     },
     "execution_count": 10,
     "metadata": {},
     "output_type": "execute_result"
    }
   ],
   "source": [
    "block0"
   ]
  },
  {
   "cell_type": "markdown",
   "metadata": {},
   "source": [
    "This is the genesis block or block 0 here."
   ]
  },
  {
   "cell_type": "markdown",
   "metadata": {},
   "source": [
    "### Transactions"
   ]
  },
  {
   "cell_type": "code",
   "execution_count": 11,
   "metadata": {
    "collapsed": true
   },
   "outputs": [],
   "source": [
    "import random\n",
    "def random_transaction(state):\n",
    "    temp_list = list(state.keys())\n",
    "    random.shuffle(temp_list)\n",
    "    # randomly select two persons\n",
    "    first_person = temp_list.pop()\n",
    "    second_person = temp_list.pop()\n",
    "    receive = random.randint(1, 10)\n",
    "    give = -receive\n",
    "    return {\n",
    "        first_person:receive, \n",
    "        second_person:give\n",
    "    }"
   ]
  },
  {
   "cell_type": "code",
   "execution_count": 12,
   "metadata": {
    "collapsed": true
   },
   "outputs": [],
   "source": [
    "test_transactions = [random_transaction(state) for x in range(5)]"
   ]
  },
  {
   "cell_type": "code",
   "execution_count": 13,
   "metadata": {},
   "outputs": [
    {
     "data": {
      "text/plain": [
       "[{'Person_1': -3, 'Person_5': 3},\n",
       " {'Person_1': 5, 'Person_4': -5},\n",
       " {'Person_1': -5, 'Person_3': 5},\n",
       " {'Person_1': 4, 'Person_2': -4},\n",
       " {'Person_3': 9, 'Person_5': -9}]"
      ]
     },
     "execution_count": 13,
     "metadata": {},
     "output_type": "execute_result"
    }
   ],
   "source": [
    "test_transactions"
   ]
  },
  {
   "cell_type": "markdown",
   "metadata": {},
   "source": [
    "### Updating State"
   ]
  },
  {
   "cell_type": "code",
   "execution_count": 14,
   "metadata": {
    "collapsed": true
   },
   "outputs": [],
   "source": [
    "def update_state(transaction, state):\n",
    "    state = state.copy()\n",
    "    for key in transaction:\n",
    "        state[key] = state.get(key, 0) + transaction[key]\n",
    "    return state"
   ]
  },
  {
   "cell_type": "code",
   "execution_count": 15,
   "metadata": {
    "collapsed": true
   },
   "outputs": [],
   "source": [
    "for transaction in test_transactions:\n",
    "    state = update_state(transaction, state)"
   ]
  },
  {
   "cell_type": "code",
   "execution_count": 16,
   "metadata": {},
   "outputs": [
    {
     "data": {
      "text/plain": [
       "{'Person_1': 101,\n",
       " 'Person_2': 96,\n",
       " 'Person_3': 114,\n",
       " 'Person_4': 95,\n",
       " 'Person_5': 94}"
      ]
     },
     "execution_count": 16,
     "metadata": {},
     "output_type": "execute_result"
    }
   ],
   "source": [
    "state"
   ]
  },
  {
   "cell_type": "markdown",
   "metadata": {},
   "source": [
    "### Valid Transactions"
   ]
  },
  {
   "cell_type": "code",
   "execution_count": 17,
   "metadata": {
    "collapsed": true
   },
   "outputs": [],
   "source": [
    "def check_transaction_validity(transaction, state):\n",
    "    # check neg vs pos\n",
    "    if sum(transaction.values()) is not 0:\n",
    "        return False\n",
    "    # check if amount in wallet to give\n",
    "    for key in transaction.keys():\n",
    "        if state.get(key, 0) + transaction[key] < 0:\n",
    "            return False\n",
    "    return True"
   ]
  },
  {
   "cell_type": "code",
   "execution_count": 18,
   "metadata": {},
   "outputs": [
    {
     "name": "stdout",
     "output_type": "stream",
     "text": [
      "True\n",
      "True\n",
      "True\n",
      "True\n",
      "True\n"
     ]
    }
   ],
   "source": [
    "for transaction in test_transactions:\n",
    "    print (check_transaction_validity(transaction, state))"
   ]
  },
  {
   "cell_type": "code",
   "execution_count": 19,
   "metadata": {},
   "outputs": [
    {
     "name": "stdout",
     "output_type": "stream",
     "text": [
      "False\n"
     ]
    }
   ],
   "source": [
    "# No balance\n",
    "print (check_transaction_validity({'A': 5, 'B': -5}, {'A': 0, 'B': 0}))"
   ]
  },
  {
   "cell_type": "code",
   "execution_count": 20,
   "metadata": {},
   "outputs": [
    {
     "name": "stdout",
     "output_type": "stream",
     "text": [
      "False\n"
     ]
    }
   ],
   "source": [
    "# Bad transaction\n",
    "print (check_transaction_validity({'A': 5, 'B': 5}, {'A': 50, 'B': 50}))"
   ]
  },
  {
   "cell_type": "markdown",
   "metadata": {},
   "source": [
    "### Initial State"
   ]
  },
  {
   "cell_type": "code",
   "execution_count": 21,
   "metadata": {
    "collapsed": true
   },
   "outputs": [],
   "source": [
    "# Let us reset\n",
    "# Lets assume 5 person were given 100 coins each\n",
    "state = {\n",
    "    'Person_1': 100, \n",
    "    'Person_2': 100, \n",
    "    'Person_3': 100, \n",
    "    'Person_4': 100, \n",
    "    'Person_5': 100\n",
    "}\n",
    "\n",
    "blockchain = []"
   ]
  },
  {
   "cell_type": "code",
   "execution_count": 22,
   "metadata": {
    "collapsed": true
   },
   "outputs": [],
   "source": [
    "# Adding the genesis block\n",
    "blockchain.append(block0)"
   ]
  },
  {
   "cell_type": "code",
   "execution_count": 23,
   "metadata": {},
   "outputs": [
    {
     "data": {
      "text/plain": [
       "[{'data': {'index': 0,\n",
       "   'nonce': 1986057,\n",
       "   'previous': None,\n",
       "   'timestamp': datetime.datetime(2019, 2, 9, 8, 47, 34, 543844),\n",
       "   'transactions': [{'Person_1': 100,\n",
       "     'Person_2': 100,\n",
       "     'Person_3': 100,\n",
       "     'Person_4': 100,\n",
       "     'Person_5': 100}]},\n",
       "  'hash': '0000089bfafed2ecf4e305fbc0bde671f234522ba5cf52f51d4796b5b353e2cb'}]"
      ]
     },
     "execution_count": 23,
     "metadata": {},
     "output_type": "execute_result"
    }
   ],
   "source": [
    "blockchain"
   ]
  },
  {
   "cell_type": "markdown",
   "metadata": {},
   "source": [
    "### Non-genesis block / New block"
   ]
  },
  {
   "cell_type": "code",
   "execution_count": 24,
   "metadata": {
    "collapsed": true
   },
   "outputs": [],
   "source": [
    "def new_block(transactions, blockchain):\n",
    "    previous_block = blockchain[-1]\n",
    "    data = {\n",
    "        'timestamp': datetime.datetime.now(),\n",
    "        'index': previous_block['data']['index'] + 1,\n",
    "        'previous': previous_block['hash'],\n",
    "        'transactions': transactions,\n",
    "        'nonce': 0\n",
    "        }\n",
    "    \n",
    "    raw, hashed = hash_sha256_nonce(data)\n",
    "    block = {'hash': hashed, 'data': raw}\n",
    "    return block"
   ]
  },
  {
   "cell_type": "code",
   "execution_count": 25,
   "metadata": {
    "collapsed": true
   },
   "outputs": [],
   "source": [
    "sample_transactions = [random_transaction(state) for x in range(50)]"
   ]
  },
  {
   "cell_type": "code",
   "execution_count": 26,
   "metadata": {
    "scrolled": true
   },
   "outputs": [
    {
     "data": {
      "text/plain": [
       "[{'Person_3': 9, 'Person_5': -9},\n",
       " {'Person_2': 10, 'Person_5': -10},\n",
       " {'Person_1': 2, 'Person_4': -2},\n",
       " {'Person_1': 10, 'Person_2': -10},\n",
       " {'Person_1': -5, 'Person_2': 5},\n",
       " {'Person_3': -8, 'Person_5': 8},\n",
       " {'Person_2': -10, 'Person_5': 10},\n",
       " {'Person_3': -6, 'Person_5': 6},\n",
       " {'Person_1': -4, 'Person_5': 4},\n",
       " {'Person_2': 8, 'Person_5': -8},\n",
       " {'Person_2': -5, 'Person_4': 5},\n",
       " {'Person_4': -9, 'Person_5': 9},\n",
       " {'Person_2': 8, 'Person_4': -8},\n",
       " {'Person_1': 2, 'Person_4': -2},\n",
       " {'Person_3': -6, 'Person_5': 6},\n",
       " {'Person_1': -7, 'Person_2': 7},\n",
       " {'Person_2': 8, 'Person_5': -8},\n",
       " {'Person_1': -2, 'Person_5': 2},\n",
       " {'Person_1': 2, 'Person_4': -2},\n",
       " {'Person_4': -6, 'Person_5': 6},\n",
       " {'Person_2': -3, 'Person_4': 3},\n",
       " {'Person_1': 9, 'Person_5': -9},\n",
       " {'Person_1': 10, 'Person_4': -10},\n",
       " {'Person_1': 2, 'Person_4': -2},\n",
       " {'Person_2': -3, 'Person_4': 3},\n",
       " {'Person_2': -7, 'Person_4': 7},\n",
       " {'Person_1': -9, 'Person_5': 9},\n",
       " {'Person_1': 1, 'Person_4': -1},\n",
       " {'Person_3': 5, 'Person_5': -5},\n",
       " {'Person_2': 7, 'Person_3': -7},\n",
       " {'Person_3': 7, 'Person_4': -7},\n",
       " {'Person_4': -2, 'Person_5': 2},\n",
       " {'Person_2': 2, 'Person_4': -2},\n",
       " {'Person_3': 9, 'Person_4': -9},\n",
       " {'Person_3': 2, 'Person_5': -2},\n",
       " {'Person_3': -1, 'Person_4': 1},\n",
       " {'Person_3': -6, 'Person_4': 6},\n",
       " {'Person_4': -1, 'Person_5': 1},\n",
       " {'Person_3': 10, 'Person_5': -10},\n",
       " {'Person_3': -3, 'Person_5': 3},\n",
       " {'Person_1': -10, 'Person_2': 10},\n",
       " {'Person_2': 10, 'Person_5': -10},\n",
       " {'Person_4': 8, 'Person_5': -8},\n",
       " {'Person_3': -10, 'Person_4': 10},\n",
       " {'Person_3': -1, 'Person_5': 1},\n",
       " {'Person_2': 10, 'Person_4': -10},\n",
       " {'Person_1': 9, 'Person_5': -9},\n",
       " {'Person_1': 6, 'Person_3': -6},\n",
       " {'Person_1': 7, 'Person_4': -7},\n",
       " {'Person_1': 1, 'Person_3': -1}]"
      ]
     },
     "execution_count": 26,
     "metadata": {},
     "output_type": "execute_result"
    }
   ],
   "source": [
    "sample_transactions"
   ]
  },
  {
   "cell_type": "markdown",
   "metadata": {},
   "source": [
    "### Transactions per block"
   ]
  },
  {
   "cell_type": "markdown",
   "metadata": {},
   "source": [
    "Bitcoin blocks used to contain fewer than 200 transactions and the largest number of transactions in a block was 1,976 at the time this answer was originally written (May 2013). In meanwhile (November 2017) the average number of transaction per block is well above 1500 with peaks above 2200."
   ]
  },
  {
   "cell_type": "code",
   "execution_count": 27,
   "metadata": {
    "collapsed": true
   },
   "outputs": [],
   "source": [
    "# Although block size is \n",
    "transactions_per_block = 5\n",
    "transaction_block = []\n",
    "\n",
    "for transaction in sample_transactions:\n",
    "    if check_transaction_validity(transaction, state):\n",
    "        state = update_state(transaction, state)\n",
    "        transaction_block.append(transaction)\n",
    "        \n",
    "        if len(transaction_block) >= transactions_per_block:\n",
    "            blockchain.append(new_block(transaction_block, blockchain))\n",
    "            transaction_block = []"
   ]
  },
  {
   "cell_type": "code",
   "execution_count": 28,
   "metadata": {
    "scrolled": false
   },
   "outputs": [
    {
     "name": "stdout",
     "output_type": "stream",
     "text": [
      "{'data': {'index': 0,\n",
      "          'nonce': 1986057,\n",
      "          'previous': None,\n",
      "          'timestamp': datetime.datetime(2019, 2, 9, 8, 47, 34, 543844),\n",
      "          'transactions': [{'Person_1': 100,\n",
      "                            'Person_2': 100,\n",
      "                            'Person_3': 100,\n",
      "                            'Person_4': 100,\n",
      "                            'Person_5': 100}]},\n",
      " 'hash': '0000089bfafed2ecf4e305fbc0bde671f234522ba5cf52f51d4796b5b353e2cb'}\n",
      "\n",
      "************************************************************************************\n",
      "\n",
      "{'data': {'index': 1,\n",
      "          'nonce': 108769,\n",
      "          'previous': '0000089bfafed2ecf4e305fbc0bde671f234522ba5cf52f51d4796b5b353e2cb',\n",
      "          'timestamp': datetime.datetime(2019, 2, 9, 8, 47, 59, 432554),\n",
      "          'transactions': [{'Person_3': 9, 'Person_5': -9},\n",
      "                           {'Person_2': 10, 'Person_5': -10},\n",
      "                           {'Person_1': 2, 'Person_4': -2},\n",
      "                           {'Person_1': 10, 'Person_2': -10},\n",
      "                           {'Person_1': -5, 'Person_2': 5}]},\n",
      " 'hash': '00000f3ea96fa441ad59db604a5b92e2bdaac738da89ac3821c40c6d08148ad4'}\n",
      "\n",
      "************************************************************************************\n",
      "\n",
      "{'data': {'index': 2,\n",
      "          'nonce': 787578,\n",
      "          'previous': '00000f3ea96fa441ad59db604a5b92e2bdaac738da89ac3821c40c6d08148ad4',\n",
      "          'timestamp': datetime.datetime(2019, 2, 9, 8, 48, 1, 770252),\n",
      "          'transactions': [{'Person_3': -8, 'Person_5': 8},\n",
      "                           {'Person_2': -10, 'Person_5': 10},\n",
      "                           {'Person_3': -6, 'Person_5': 6},\n",
      "                           {'Person_1': -4, 'Person_5': 4},\n",
      "                           {'Person_2': 8, 'Person_5': -8}]},\n",
      " 'hash': '000003cce1d822166fe681c288cdfe2d41e0000d4d91bf52bf5ad2cd292623b6'}\n",
      "\n",
      "************************************************************************************\n",
      "\n",
      "{'data': {'index': 3,\n",
      "          'nonce': 111206,\n",
      "          'previous': '000003cce1d822166fe681c288cdfe2d41e0000d4d91bf52bf5ad2cd292623b6',\n",
      "          'timestamp': datetime.datetime(2019, 2, 9, 8, 48, 16, 105976),\n",
      "          'transactions': [{'Person_2': -5, 'Person_4': 5},\n",
      "                           {'Person_4': -9, 'Person_5': 9},\n",
      "                           {'Person_2': 8, 'Person_4': -8},\n",
      "                           {'Person_1': 2, 'Person_4': -2},\n",
      "                           {'Person_3': -6, 'Person_5': 6}]},\n",
      " 'hash': '000004bf261f7fc975bbcadbb56841fd6c33ed17a53548a8b3b9ffdb279c6424'}\n",
      "\n",
      "************************************************************************************\n",
      "\n",
      "{'data': {'index': 4,\n",
      "          'nonce': 633379,\n",
      "          'previous': '000004bf261f7fc975bbcadbb56841fd6c33ed17a53548a8b3b9ffdb279c6424',\n",
      "          'timestamp': datetime.datetime(2019, 2, 9, 8, 48, 18, 116557),\n",
      "          'transactions': [{'Person_1': -7, 'Person_2': 7},\n",
      "                           {'Person_2': 8, 'Person_5': -8},\n",
      "                           {'Person_1': -2, 'Person_5': 2},\n",
      "                           {'Person_1': 2, 'Person_4': -2},\n",
      "                           {'Person_4': -6, 'Person_5': 6}]},\n",
      " 'hash': '000002a22f34924e324d9507336d1fad4bfe01d1b2d1e555a051c6ceca40b20f'}\n",
      "\n",
      "************************************************************************************\n",
      "\n",
      "{'data': {'index': 5,\n",
      "          'nonce': 594672,\n",
      "          'previous': '000002a22f34924e324d9507336d1fad4bfe01d1b2d1e555a051c6ceca40b20f',\n",
      "          'timestamp': datetime.datetime(2019, 2, 9, 8, 48, 29, 690847),\n",
      "          'transactions': [{'Person_2': -3, 'Person_4': 3},\n",
      "                           {'Person_1': 9, 'Person_5': -9},\n",
      "                           {'Person_1': 10, 'Person_4': -10},\n",
      "                           {'Person_1': 2, 'Person_4': -2},\n",
      "                           {'Person_2': -3, 'Person_4': 3}]},\n",
      " 'hash': '0000077cc6969b75160ad3b410a554783adc70b4d3d84a6308852bf106c3faa7'}\n",
      "\n",
      "************************************************************************************\n",
      "\n",
      "{'data': {'index': 6,\n",
      "          'nonce': 1080521,\n",
      "          'previous': '0000077cc6969b75160ad3b410a554783adc70b4d3d84a6308852bf106c3faa7',\n",
      "          'timestamp': datetime.datetime(2019, 2, 9, 8, 48, 40, 482833),\n",
      "          'transactions': [{'Person_2': -7, 'Person_4': 7},\n",
      "                           {'Person_1': -9, 'Person_5': 9},\n",
      "                           {'Person_1': 1, 'Person_4': -1},\n",
      "                           {'Person_3': 5, 'Person_5': -5},\n",
      "                           {'Person_2': 7, 'Person_3': -7}]},\n",
      " 'hash': '00000a05b13ba919302fd04731c9d15568f08dfbcd7330e064879d9a93ea88c2'}\n",
      "\n",
      "************************************************************************************\n",
      "\n",
      "{'data': {'index': 7,\n",
      "          'nonce': 948871,\n",
      "          'previous': '00000a05b13ba919302fd04731c9d15568f08dfbcd7330e064879d9a93ea88c2',\n",
      "          'timestamp': datetime.datetime(2019, 2, 9, 8, 49, 0, 545382),\n",
      "          'transactions': [{'Person_3': 7, 'Person_4': -7},\n",
      "                           {'Person_4': -2, 'Person_5': 2},\n",
      "                           {'Person_2': 2, 'Person_4': -2},\n",
      "                           {'Person_3': 9, 'Person_4': -9},\n",
      "                           {'Person_3': 2, 'Person_5': -2}]},\n",
      " 'hash': '00000186a7c264d8398a3a2b277dc3f2f37b7b26cc8e3a1a49c77bc673c624ed'}\n",
      "\n",
      "************************************************************************************\n",
      "\n",
      "{'data': {'index': 8,\n",
      "          'nonce': 54825,\n",
      "          'previous': '00000186a7c264d8398a3a2b277dc3f2f37b7b26cc8e3a1a49c77bc673c624ed',\n",
      "          'timestamp': datetime.datetime(2019, 2, 9, 8, 49, 17, 942911),\n",
      "          'transactions': [{'Person_3': -1, 'Person_4': 1},\n",
      "                           {'Person_3': -6, 'Person_4': 6},\n",
      "                           {'Person_4': -1, 'Person_5': 1},\n",
      "                           {'Person_3': 10, 'Person_5': -10},\n",
      "                           {'Person_3': -3, 'Person_5': 3}]},\n",
      " 'hash': '00000a60979001f257712dbca431cb8b5e4fee864c6dbf80b3521d9ffde8f613'}\n",
      "\n",
      "************************************************************************************\n",
      "\n",
      "{'data': {'index': 9,\n",
      "          'nonce': 3023208,\n",
      "          'previous': '00000a60979001f257712dbca431cb8b5e4fee864c6dbf80b3521d9ffde8f613',\n",
      "          'timestamp': datetime.datetime(2019, 2, 9, 8, 49, 18, 950828),\n",
      "          'transactions': [{'Person_1': -10, 'Person_2': 10},\n",
      "                           {'Person_2': 10, 'Person_5': -10},\n",
      "                           {'Person_4': 8, 'Person_5': -8},\n",
      "                           {'Person_3': -10, 'Person_4': 10},\n",
      "                           {'Person_3': -1, 'Person_5': 1}]},\n",
      " 'hash': '00000c8bc3c74f6432987d2f273ee5a974bf085f3c93ad1ec94c46274df14ed5'}\n",
      "\n",
      "************************************************************************************\n",
      "\n",
      "{'data': {'index': 10,\n",
      "          'nonce': 258860,\n",
      "          'previous': '00000c8bc3c74f6432987d2f273ee5a974bf085f3c93ad1ec94c46274df14ed5',\n",
      "          'timestamp': datetime.datetime(2019, 2, 9, 8, 50, 14, 14005),\n",
      "          'transactions': [{'Person_2': 10, 'Person_4': -10},\n",
      "                           {'Person_1': 9, 'Person_5': -9},\n",
      "                           {'Person_1': 6, 'Person_3': -6},\n",
      "                           {'Person_1': 7, 'Person_4': -7},\n",
      "                           {'Person_1': 1, 'Person_3': -1}]},\n",
      " 'hash': '00000a691b9fb1de234c23589f105c6e84ae27ce62c8fce511f2a129d0470784'}\n",
      "\n",
      "************************************************************************************\n",
      "\n"
     ]
    }
   ],
   "source": [
    "import pprint\n",
    "pp = pprint.PrettyPrinter()\n",
    "for block in blockchain:\n",
    "    pp.pprint(block)\n",
    "    print('\\n************************************************************************************\\n')"
   ]
  },
  {
   "cell_type": "markdown",
   "metadata": {},
   "source": [
    "### The current state\n",
    "#### Syncing for the first time"
   ]
  },
  {
   "cell_type": "code",
   "execution_count": 29,
   "metadata": {
    "collapsed": true
   },
   "outputs": [],
   "source": [
    "def validate_block(block, parent, state):    \n",
    "    error_msg = 'Error in %d' % block['data']['index']\n",
    "\n",
    "    # check block hash\n",
    "    assert block['hash'] == hash_sha256(block['data']), error_msg\n",
    "\n",
    "    # check block indices\n",
    "    assert block['data']['index'] == parent['data']['index'] + 1, error_msg\n",
    "\n",
    "    # check previous hash\n",
    "    assert block['data']['previous'] == parent['hash'], error_msg\n",
    "    \n",
    "    # validate all transactions\n",
    "    for transaction in block['data']['transactions']:\n",
    "        assert check_transaction_validity(transaction, state), error_msg\n",
    "        state = update_state(transaction, state)\n",
    "        \n",
    "    return state"
   ]
  },
  {
   "cell_type": "code",
   "execution_count": 30,
   "metadata": {},
   "outputs": [
    {
     "data": {
      "text/plain": [
       "{'Person_1': 124,\n",
       " 'Person_2': 147,\n",
       " 'Person_3': 87,\n",
       " 'Person_4': 63,\n",
       " 'Person_5': 79}"
      ]
     },
     "execution_count": 30,
     "metadata": {},
     "output_type": "execute_result"
    }
   ],
   "source": [
    "def check_chain(blockchain):\n",
    "    state = {}\n",
    "\n",
    "    for transaction in blockchain[0]['data']['transactions']:\n",
    "        state = update_state(transaction, state)\n",
    "\n",
    "    parent = blockchain[0]\n",
    "    \n",
    "    for block in blockchain[1:]:\n",
    "        state = validate_block(block, parent, state)\n",
    "        parent = block\n",
    "\n",
    "    return state\n",
    "\n",
    "check_chain(blockchain)"
   ]
  },
  {
   "cell_type": "code",
   "execution_count": null,
   "metadata": {
    "collapsed": true
   },
   "outputs": [],
   "source": []
  }
 ],
 "metadata": {
  "kernelspec": {
   "display_name": "Python 3",
   "language": "python",
   "name": "python3"
  },
  "language_info": {
   "codemirror_mode": {
    "name": "ipython",
    "version": 3
   },
   "file_extension": ".py",
   "mimetype": "text/x-python",
   "name": "python",
   "nbconvert_exporter": "python",
   "pygments_lexer": "ipython3",
   "version": "3.6.3"
  }
 },
 "nbformat": 4,
 "nbformat_minor": 2
}
