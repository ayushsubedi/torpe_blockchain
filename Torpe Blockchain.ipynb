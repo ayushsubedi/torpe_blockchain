{
 "cells": [
  {
   "cell_type": "markdown",
   "metadata": {},
   "source": [
    "# Torpe Blockchain (तोर्पे ब्लोक्कचैन)\n",
    "### A minimal blockchain data structure to understand the blockchain basics like hashing, nonce, states, genesis blocks etc."
   ]
  },
  {
   "cell_type": "markdown",
   "metadata": {},
   "source": [
    "![title](blockchain.jpg)"
   ]
  },
  {
   "cell_type": "markdown",
   "metadata": {},
   "source": [
    "### Hash Function"
   ]
  },
  {
   "cell_type": "markdown",
   "metadata": {},
   "source": [
    "A hash function is any function that can be used to map data of arbitrary size to data of a fixed size. The values returned by a hash function are called hash values, hash codes, digests, or simply hashes."
   ]
  },
  {
   "cell_type": "code",
   "execution_count": 1,
   "metadata": {
    "collapsed": true
   },
   "outputs": [],
   "source": [
    "import hashlib\n",
    "def hash_sha256(raw):\n",
    "    raw = str(raw).encode('utf-8')\n",
    "    return hashlib.sha256(raw).hexdigest() "
   ]
  },
  {
   "cell_type": "code",
   "execution_count": 2,
   "metadata": {},
   "outputs": [
    {
     "data": {
      "text/plain": [
       "'e5367197a1f12480ec761306f2fa9d15b494d5a80e5a806713df9e60943f4faf'"
      ]
     },
     "execution_count": 2,
     "metadata": {},
     "output_type": "execute_result"
    }
   ],
   "source": [
    "hash_sha256('torpe_blockchain')"
   ]
  },
  {
   "cell_type": "code",
   "execution_count": 3,
   "metadata": {},
   "outputs": [
    {
     "data": {
      "text/plain": [
       "'e5367197a1f12480ec761306f2fa9d15b494d5a80e5a806713df9e60943f4faf'"
      ]
     },
     "execution_count": 3,
     "metadata": {},
     "output_type": "execute_result"
    }
   ],
   "source": [
    "hash_sha256('torpe_blockchain')"
   ]
  },
  {
   "cell_type": "code",
   "execution_count": 30,
   "metadata": {},
   "outputs": [
    {
     "data": {
      "text/plain": [
       "'71fe90af906a9afa507ee54287595df6d7267df05428b3f91429371ebd27cb3e'"
      ]
     },
     "execution_count": 30,
     "metadata": {},
     "output_type": "execute_result"
    }
   ],
   "source": [
    "hash_sha256('torpe_blockchaiN')"
   ]
  },
  {
   "cell_type": "markdown",
   "metadata": {},
   "source": [
    "Hashes for the same text are the same as seen above.  Even when one character of the string is changed, the hash generated as a result seems to be completely random.  "
   ]
  },
  {
   "cell_type": "markdown",
   "metadata": {},
   "source": [
    "SHA-256 collisions have not been found yet. "
   ]
  },
  {
   "cell_type": "markdown",
   "metadata": {},
   "source": [
    "### Nonce"
   ]
  },
  {
   "cell_type": "markdown",
   "metadata": {},
   "source": [
    "> Number that can only be used once\n",
    "\n",
    "An arbitrary numer used in cryptography to ensure uniqueness and prevent the rerunning of transactions (known as replay attack). "
   ]
  },
  {
   "cell_type": "code",
   "execution_count": 4,
   "metadata": {
    "collapsed": true
   },
   "outputs": [],
   "source": [
    "def hash_sha256_nonce(raw):\n",
    "    raw_bytes = str(raw).encode('utf-8')\n",
    "    hashed = hashlib.sha256(raw_bytes).hexdigest() \n",
    "    nonce = 0\n",
    "    while (hashed[:5] != '00000'):\n",
    "        nonce = nonce+1\n",
    "        raw.update({'nonce': nonce})\n",
    "        raw_bytes = str(raw).encode('utf-8')\n",
    "        hashed = hashlib.sha256(raw_bytes).hexdigest() \n",
    "    return raw, hashed"
   ]
  },
  {
   "cell_type": "code",
   "execution_count": 5,
   "metadata": {},
   "outputs": [
    {
     "name": "stdout",
     "output_type": "stream",
     "text": [
      "({'hello': 'proof_of_work', 'nonce': 623228}, '00000a9d45728c6f4d1eff383dab4d96b753495c8b312ecb5d1858116885ee55')\n"
     ]
    }
   ],
   "source": [
    "print (hash_sha256_nonce({'hello': 'proof_of_work', 'nonce': 0}))"
   ]
  },
  {
   "cell_type": "markdown",
   "metadata": {},
   "source": [
    "### Proof of work"
   ]
  },
  {
   "cell_type": "markdown",
   "metadata": {},
   "source": [
    "The proof of work for this case will be to generate hashes with five leading zeros (by incrementing the nonce). This is the \"mining\" part."
   ]
  },
  {
   "cell_type": "markdown",
   "metadata": {},
   "source": [
    "## Block"
   ]
  },
  {
   "cell_type": "markdown",
   "metadata": {},
   "source": [
    "Blocks hold batches of valid transactions that are hashed and encoded into a Merkle tree Each block includes the cryptographic hash of the prior block in the blockchain, linking the two. The linked blocks form a chain. This iterative process confirms the integrity of the previous block, all the way back to the original genesis block."
   ]
  },
  {
   "cell_type": "markdown",
   "metadata": {},
   "source": [
    "### Genesis Block"
   ]
  },
  {
   "cell_type": "markdown",
   "metadata": {},
   "source": [
    "A genesis block or block0 is the first block of a block chain. The genesis block is almost always hardcoded into the software of the applications that utilize its block chain. It is a special case in that it does not reference a previous block"
   ]
  },
  {
   "cell_type": "code",
   "execution_count": 6,
   "metadata": {
    "collapsed": true
   },
   "outputs": [],
   "source": [
    "import datetime"
   ]
  },
  {
   "cell_type": "code",
   "execution_count": 7,
   "metadata": {
    "collapsed": true
   },
   "outputs": [],
   "source": [
    "# Lets assume 5 person were given 100 coins each\n",
    "state = {\n",
    "    'Person_1': 100, \n",
    "    'Person_2': 100, \n",
    "    'Person_3': 100, \n",
    "    'Person_4': 100, \n",
    "    'Person_5': 100\n",
    "}"
   ]
  },
  {
   "cell_type": "code",
   "execution_count": 8,
   "metadata": {
    "collapsed": true
   },
   "outputs": [],
   "source": [
    "block0_data = {\n",
    "    'timestamp': datetime.datetime.now(),\n",
    "    'index': 0,\n",
    "    'previous': None,\n",
    "    'transactions': [state], \n",
    "    'nonce': 0\n",
    "}\n",
    "\n",
    "raw, hashed = hash_sha256_nonce(block0_data)\n",
    "block0 = {\n",
    "    'hash': hashed,\n",
    "    'data': raw,\n",
    "}"
   ]
  },
  {
   "cell_type": "code",
   "execution_count": 9,
   "metadata": {},
   "outputs": [
    {
     "data": {
      "text/plain": [
       "{'data': {'index': 0,\n",
       "  'nonce': 103901,\n",
       "  'previous': None,\n",
       "  'timestamp': datetime.datetime(2019, 2, 13, 17, 37, 11, 867535),\n",
       "  'transactions': [{'Person_1': 100,\n",
       "    'Person_2': 100,\n",
       "    'Person_3': 100,\n",
       "    'Person_4': 100,\n",
       "    'Person_5': 100}]},\n",
       " 'hash': '00000d02bcb62e2a9f7a9664777e7d92ef5991b1ab407be33c2471035b45b373'}"
      ]
     },
     "execution_count": 9,
     "metadata": {},
     "output_type": "execute_result"
    }
   ],
   "source": [
    "block0"
   ]
  },
  {
   "cell_type": "markdown",
   "metadata": {},
   "source": [
    "This is the genesis block or block 0 here."
   ]
  },
  {
   "cell_type": "markdown",
   "metadata": {},
   "source": [
    "### Transactions\n",
    "Lets create some random transactions. The transactions for the demo purpose follow +x, -x semantic. See the examples below."
   ]
  },
  {
   "cell_type": "code",
   "execution_count": 10,
   "metadata": {
    "collapsed": true
   },
   "outputs": [],
   "source": [
    "import random\n",
    "def random_transaction(state):\n",
    "    temp_list = list(state.keys())\n",
    "    random.shuffle(temp_list)\n",
    "    # randomly select two persons\n",
    "    first_person = temp_list.pop()\n",
    "    second_person = temp_list.pop()\n",
    "    receive = random.randint(1, 10)\n",
    "    give = -receive\n",
    "    return {\n",
    "        first_person:receive, \n",
    "        second_person:give\n",
    "    }"
   ]
  },
  {
   "cell_type": "code",
   "execution_count": 11,
   "metadata": {
    "collapsed": true
   },
   "outputs": [],
   "source": [
    "test_transactions = [random_transaction(state) for x in range(5)]"
   ]
  },
  {
   "cell_type": "code",
   "execution_count": 12,
   "metadata": {},
   "outputs": [
    {
     "data": {
      "text/plain": [
       "[{'Person_3': -2, 'Person_4': 2},\n",
       " {'Person_2': 6, 'Person_5': -6},\n",
       " {'Person_1': 1, 'Person_4': -1},\n",
       " {'Person_3': 8, 'Person_4': -8},\n",
       " {'Person_1': 7, 'Person_2': -7}]"
      ]
     },
     "execution_count": 12,
     "metadata": {},
     "output_type": "execute_result"
    }
   ],
   "source": [
    "test_transactions"
   ]
  },
  {
   "cell_type": "markdown",
   "metadata": {},
   "source": [
    "### Updating State"
   ]
  },
  {
   "cell_type": "code",
   "execution_count": 13,
   "metadata": {
    "collapsed": true
   },
   "outputs": [],
   "source": [
    "def update_state(transaction, state):\n",
    "    state = state.copy()\n",
    "    for key in transaction:\n",
    "        state[key] = state.get(key, 0) + transaction[key]\n",
    "    return state"
   ]
  },
  {
   "cell_type": "code",
   "execution_count": 14,
   "metadata": {
    "collapsed": true
   },
   "outputs": [],
   "source": [
    "for transaction in test_transactions:\n",
    "    state = update_state(transaction, state)"
   ]
  },
  {
   "cell_type": "code",
   "execution_count": 15,
   "metadata": {},
   "outputs": [
    {
     "data": {
      "text/plain": [
       "{'Person_1': 108,\n",
       " 'Person_2': 99,\n",
       " 'Person_3': 106,\n",
       " 'Person_4': 93,\n",
       " 'Person_5': 94}"
      ]
     },
     "execution_count": 15,
     "metadata": {},
     "output_type": "execute_result"
    }
   ],
   "source": [
    "state"
   ]
  },
  {
   "cell_type": "markdown",
   "metadata": {},
   "source": [
    "### Valid Transactions"
   ]
  },
  {
   "cell_type": "code",
   "execution_count": 16,
   "metadata": {
    "collapsed": true
   },
   "outputs": [],
   "source": [
    "def check_transaction_validity(transaction, state):\n",
    "    # check neg vs pos\n",
    "    if sum(transaction.values()) is not 0:\n",
    "        return False\n",
    "    # check if amount in wallet to give\n",
    "    for key in transaction.keys():\n",
    "        if state.get(key, 0) + transaction[key] < 0:\n",
    "            return False\n",
    "    return True"
   ]
  },
  {
   "cell_type": "code",
   "execution_count": 17,
   "metadata": {},
   "outputs": [
    {
     "name": "stdout",
     "output_type": "stream",
     "text": [
      "True\n",
      "True\n",
      "True\n",
      "True\n",
      "True\n"
     ]
    }
   ],
   "source": [
    "for transaction in test_transactions:\n",
    "    print (check_transaction_validity(transaction, state))"
   ]
  },
  {
   "cell_type": "code",
   "execution_count": 18,
   "metadata": {},
   "outputs": [
    {
     "name": "stdout",
     "output_type": "stream",
     "text": [
      "False\n"
     ]
    }
   ],
   "source": [
    "# No balance\n",
    "print (check_transaction_validity({'A': 5, 'B': -5}, {'A': 0, 'B': 0}))"
   ]
  },
  {
   "cell_type": "code",
   "execution_count": 19,
   "metadata": {},
   "outputs": [
    {
     "name": "stdout",
     "output_type": "stream",
     "text": [
      "False\n"
     ]
    }
   ],
   "source": [
    "# Bad transaction\n",
    "print (check_transaction_validity({'A': 5, 'B': 5}, {'A': 50, 'B': 50}))"
   ]
  },
  {
   "cell_type": "markdown",
   "metadata": {},
   "source": [
    "### Initial State"
   ]
  },
  {
   "cell_type": "code",
   "execution_count": 20,
   "metadata": {
    "collapsed": true
   },
   "outputs": [],
   "source": [
    "# Let us reset\n",
    "# Lets assume 5 person were given 100 coins each\n",
    "state = {\n",
    "    'Person_1': 100, \n",
    "    'Person_2': 100, \n",
    "    'Person_3': 100, \n",
    "    'Person_4': 100, \n",
    "    'Person_5': 100\n",
    "}\n",
    "\n",
    "blockchain = []"
   ]
  },
  {
   "cell_type": "code",
   "execution_count": 21,
   "metadata": {
    "collapsed": true
   },
   "outputs": [],
   "source": [
    "# Adding the genesis block\n",
    "blockchain.append(block0)"
   ]
  },
  {
   "cell_type": "code",
   "execution_count": 22,
   "metadata": {},
   "outputs": [
    {
     "data": {
      "text/plain": [
       "[{'data': {'index': 0,\n",
       "   'nonce': 103901,\n",
       "   'previous': None,\n",
       "   'timestamp': datetime.datetime(2019, 2, 13, 17, 37, 11, 867535),\n",
       "   'transactions': [{'Person_1': 100,\n",
       "     'Person_2': 100,\n",
       "     'Person_3': 100,\n",
       "     'Person_4': 100,\n",
       "     'Person_5': 100}]},\n",
       "  'hash': '00000d02bcb62e2a9f7a9664777e7d92ef5991b1ab407be33c2471035b45b373'}]"
      ]
     },
     "execution_count": 22,
     "metadata": {},
     "output_type": "execute_result"
    }
   ],
   "source": [
    "blockchain"
   ]
  },
  {
   "cell_type": "markdown",
   "metadata": {},
   "source": [
    "### Non-genesis block / New block"
   ]
  },
  {
   "cell_type": "code",
   "execution_count": 23,
   "metadata": {
    "collapsed": true
   },
   "outputs": [],
   "source": [
    "def new_block(transactions, blockchain):\n",
    "    previous_block = blockchain[-1]\n",
    "    data = {\n",
    "        'timestamp': datetime.datetime.now(),\n",
    "        'index': previous_block['data']['index'] + 1,\n",
    "        'previous': previous_block['hash'],\n",
    "        'transactions': transactions,\n",
    "        'nonce': 0\n",
    "        }\n",
    "    \n",
    "    raw, hashed = hash_sha256_nonce(data)\n",
    "    block = {'hash': hashed, 'data': raw}\n",
    "    return block"
   ]
  },
  {
   "cell_type": "code",
   "execution_count": 24,
   "metadata": {
    "collapsed": true
   },
   "outputs": [],
   "source": [
    "sample_transactions = [random_transaction(state) for x in range(50)]"
   ]
  },
  {
   "cell_type": "code",
   "execution_count": 25,
   "metadata": {
    "scrolled": true
   },
   "outputs": [
    {
     "data": {
      "text/plain": [
       "[{'Person_2': 4, 'Person_5': -4},\n",
       " {'Person_1': 7, 'Person_3': -7},\n",
       " {'Person_3': 3, 'Person_4': -3},\n",
       " {'Person_3': -6, 'Person_5': 6},\n",
       " {'Person_1': 8, 'Person_2': -8},\n",
       " {'Person_1': 2, 'Person_3': -2},\n",
       " {'Person_1': 5, 'Person_3': -5},\n",
       " {'Person_1': 6, 'Person_3': -6},\n",
       " {'Person_2': -4, 'Person_4': 4},\n",
       " {'Person_4': 8, 'Person_5': -8},\n",
       " {'Person_3': 2, 'Person_5': -2},\n",
       " {'Person_2': 10, 'Person_4': -10},\n",
       " {'Person_1': 10, 'Person_2': -10},\n",
       " {'Person_2': -7, 'Person_3': 7},\n",
       " {'Person_1': 3, 'Person_3': -3},\n",
       " {'Person_3': -3, 'Person_4': 3},\n",
       " {'Person_1': 10, 'Person_2': -10},\n",
       " {'Person_2': 3, 'Person_5': -3},\n",
       " {'Person_1': 2, 'Person_2': -2},\n",
       " {'Person_3': -4, 'Person_5': 4},\n",
       " {'Person_1': 5, 'Person_2': -5},\n",
       " {'Person_1': -9, 'Person_5': 9},\n",
       " {'Person_2': -6, 'Person_4': 6},\n",
       " {'Person_2': 5, 'Person_3': -5},\n",
       " {'Person_2': 7, 'Person_5': -7},\n",
       " {'Person_3': 7, 'Person_4': -7},\n",
       " {'Person_2': 5, 'Person_3': -5},\n",
       " {'Person_2': -2, 'Person_4': 2},\n",
       " {'Person_1': -9, 'Person_4': 9},\n",
       " {'Person_2': 6, 'Person_5': -6},\n",
       " {'Person_1': 1, 'Person_5': -1},\n",
       " {'Person_1': -9, 'Person_5': 9},\n",
       " {'Person_2': 10, 'Person_3': -10},\n",
       " {'Person_2': -5, 'Person_5': 5},\n",
       " {'Person_3': 9, 'Person_4': -9},\n",
       " {'Person_3': 1, 'Person_5': -1},\n",
       " {'Person_3': -4, 'Person_4': 4},\n",
       " {'Person_1': -5, 'Person_5': 5},\n",
       " {'Person_1': 1, 'Person_2': -1},\n",
       " {'Person_2': 8, 'Person_3': -8},\n",
       " {'Person_3': 5, 'Person_4': -5},\n",
       " {'Person_1': 6, 'Person_5': -6},\n",
       " {'Person_3': -3, 'Person_4': 3},\n",
       " {'Person_1': 7, 'Person_2': -7},\n",
       " {'Person_4': -1, 'Person_5': 1},\n",
       " {'Person_3': 7, 'Person_4': -7},\n",
       " {'Person_2': 9, 'Person_3': -9},\n",
       " {'Person_2': 4, 'Person_3': -4},\n",
       " {'Person_2': -1, 'Person_5': 1},\n",
       " {'Person_2': -4, 'Person_5': 4}]"
      ]
     },
     "execution_count": 25,
     "metadata": {},
     "output_type": "execute_result"
    }
   ],
   "source": [
    "sample_transactions"
   ]
  },
  {
   "cell_type": "markdown",
   "metadata": {},
   "source": [
    "### Transactions per block"
   ]
  },
  {
   "cell_type": "markdown",
   "metadata": {},
   "source": [
    "Bitcoin blocks used to contain fewer than 200 transactions and the largest number of transactions in a block was 1,976 at the time this answer was originally written (May 2013). In meanwhile (November 2017) the average number of transaction per block is well above 1500 with peaks above 2200."
   ]
  },
  {
   "cell_type": "code",
   "execution_count": 26,
   "metadata": {
    "collapsed": true
   },
   "outputs": [],
   "source": [
    "# Assume block size is 5\n",
    "transactions_per_block = 5\n",
    "transaction_block = []\n",
    "\n",
    "for transaction in sample_transactions:\n",
    "    if check_transaction_validity(transaction, state):\n",
    "        state = update_state(transaction, state)\n",
    "        transaction_block.append(transaction)\n",
    "        \n",
    "        if len(transaction_block) >= transactions_per_block:\n",
    "            blockchain.append(new_block(transaction_block, blockchain))\n",
    "            transaction_block = []"
   ]
  },
  {
   "cell_type": "code",
   "execution_count": 27,
   "metadata": {
    "scrolled": false
   },
   "outputs": [
    {
     "name": "stdout",
     "output_type": "stream",
     "text": [
      "{'data': {'index': 0,\n",
      "          'nonce': 103901,\n",
      "          'previous': None,\n",
      "          'timestamp': datetime.datetime(2019, 2, 13, 17, 37, 11, 867535),\n",
      "          'transactions': [{'Person_1': 100,\n",
      "                            'Person_2': 100,\n",
      "                            'Person_3': 100,\n",
      "                            'Person_4': 100,\n",
      "                            'Person_5': 100}]},\n",
      " 'hash': '00000d02bcb62e2a9f7a9664777e7d92ef5991b1ab407be33c2471035b45b373'}\n",
      "\n",
      "************************************************************************************\n",
      "\n",
      "{'data': {'index': 1,\n",
      "          'nonce': 991896,\n",
      "          'previous': '00000d02bcb62e2a9f7a9664777e7d92ef5991b1ab407be33c2471035b45b373',\n",
      "          'timestamp': datetime.datetime(2019, 2, 13, 17, 37, 14, 296153),\n",
      "          'transactions': [{'Person_2': 4, 'Person_5': -4},\n",
      "                           {'Person_1': 7, 'Person_3': -7},\n",
      "                           {'Person_3': 3, 'Person_4': -3},\n",
      "                           {'Person_3': -6, 'Person_5': 6},\n",
      "                           {'Person_1': 8, 'Person_2': -8}]},\n",
      " 'hash': '0000065a63e0d23ee847b396d34c67b8993a4258fa4bad634e0d5123751aad7e'}\n",
      "\n",
      "************************************************************************************\n",
      "\n",
      "{'data': {'index': 2,\n",
      "          'nonce': 2750608,\n",
      "          'previous': '0000065a63e0d23ee847b396d34c67b8993a4258fa4bad634e0d5123751aad7e',\n",
      "          'timestamp': datetime.datetime(2019, 2, 13, 17, 37, 32, 402841),\n",
      "          'transactions': [{'Person_1': 2, 'Person_3': -2},\n",
      "                           {'Person_1': 5, 'Person_3': -5},\n",
      "                           {'Person_1': 6, 'Person_3': -6},\n",
      "                           {'Person_2': -4, 'Person_4': 4},\n",
      "                           {'Person_4': 8, 'Person_5': -8}]},\n",
      " 'hash': '00000a914a43a466d739513bb22a7f307ab3477a9f0b9af0e70180cebc5714fd'}\n",
      "\n",
      "************************************************************************************\n",
      "\n",
      "{'data': {'index': 3,\n",
      "          'nonce': 1148176,\n",
      "          'previous': '00000a914a43a466d739513bb22a7f307ab3477a9f0b9af0e70180cebc5714fd',\n",
      "          'timestamp': datetime.datetime(2019, 2, 13, 17, 38, 21, 823421),\n",
      "          'transactions': [{'Person_3': 2, 'Person_5': -2},\n",
      "                           {'Person_2': 10, 'Person_4': -10},\n",
      "                           {'Person_1': 10, 'Person_2': -10},\n",
      "                           {'Person_2': -7, 'Person_3': 7},\n",
      "                           {'Person_1': 3, 'Person_3': -3}]},\n",
      " 'hash': '000005f9c930971ce952f67ec01b5d38b7c4d267315f485f6dff2fa7a167069f'}\n",
      "\n",
      "************************************************************************************\n",
      "\n",
      "{'data': {'index': 4,\n",
      "          'nonce': 1702482,\n",
      "          'previous': '000005f9c930971ce952f67ec01b5d38b7c4d267315f485f6dff2fa7a167069f',\n",
      "          'timestamp': datetime.datetime(2019, 2, 13, 17, 38, 43, 774933),\n",
      "          'transactions': [{'Person_3': -3, 'Person_4': 3},\n",
      "                           {'Person_1': 10, 'Person_2': -10},\n",
      "                           {'Person_2': 3, 'Person_5': -3},\n",
      "                           {'Person_1': 2, 'Person_2': -2},\n",
      "                           {'Person_3': -4, 'Person_5': 4}]},\n",
      " 'hash': '00000718fc04f6822ecff9bc65583627b98c1f2a46e28113c45670b7bb9667d5'}\n",
      "\n",
      "************************************************************************************\n",
      "\n",
      "{'data': {'index': 5,\n",
      "          'nonce': 2358017,\n",
      "          'previous': '00000718fc04f6822ecff9bc65583627b98c1f2a46e28113c45670b7bb9667d5',\n",
      "          'timestamp': datetime.datetime(2019, 2, 13, 17, 39, 15, 670592),\n",
      "          'transactions': [{'Person_1': 5, 'Person_2': -5},\n",
      "                           {'Person_1': -9, 'Person_5': 9},\n",
      "                           {'Person_2': -6, 'Person_4': 6},\n",
      "                           {'Person_2': 5, 'Person_3': -5},\n",
      "                           {'Person_2': 7, 'Person_5': -7}]},\n",
      " 'hash': '0000078377ffe38546525b6d2b4f5f3f46e7bda1a26cab63bf817d39ccec231b'}\n",
      "\n",
      "************************************************************************************\n",
      "\n",
      "{'data': {'index': 6,\n",
      "          'nonce': 952687,\n",
      "          'previous': '0000078377ffe38546525b6d2b4f5f3f46e7bda1a26cab63bf817d39ccec231b',\n",
      "          'timestamp': datetime.datetime(2019, 2, 13, 17, 39, 58, 531015),\n",
      "          'transactions': [{'Person_3': 7, 'Person_4': -7},\n",
      "                           {'Person_2': 5, 'Person_3': -5},\n",
      "                           {'Person_2': -2, 'Person_4': 2},\n",
      "                           {'Person_1': -9, 'Person_4': 9},\n",
      "                           {'Person_2': 6, 'Person_5': -6}]},\n",
      " 'hash': '0000049d5aaa5ad22741a094aad72d0b25ba4c6506a0bdb8bdf9a0b98ff3ad80'}\n",
      "\n",
      "************************************************************************************\n",
      "\n",
      "{'data': {'index': 7,\n",
      "          'nonce': 985755,\n",
      "          'previous': '0000049d5aaa5ad22741a094aad72d0b25ba4c6506a0bdb8bdf9a0b98ff3ad80',\n",
      "          'timestamp': datetime.datetime(2019, 2, 13, 17, 40, 15, 544939),\n",
      "          'transactions': [{'Person_1': 1, 'Person_5': -1},\n",
      "                           {'Person_1': -9, 'Person_5': 9},\n",
      "                           {'Person_2': 10, 'Person_3': -10},\n",
      "                           {'Person_2': -5, 'Person_5': 5},\n",
      "                           {'Person_3': 9, 'Person_4': -9}]},\n",
      " 'hash': '00000d27d1e298c56ec2f9f02a775199adebaaeabdbaee689554f3fa27b771a7'}\n",
      "\n",
      "************************************************************************************\n",
      "\n",
      "{'data': {'index': 8,\n",
      "          'nonce': 1686273,\n",
      "          'previous': '00000d27d1e298c56ec2f9f02a775199adebaaeabdbaee689554f3fa27b771a7',\n",
      "          'timestamp': datetime.datetime(2019, 2, 13, 17, 40, 33, 46649),\n",
      "          'transactions': [{'Person_3': 1, 'Person_5': -1},\n",
      "                           {'Person_3': -4, 'Person_4': 4},\n",
      "                           {'Person_1': -5, 'Person_5': 5},\n",
      "                           {'Person_1': 1, 'Person_2': -1},\n",
      "                           {'Person_2': 8, 'Person_3': -8}]},\n",
      " 'hash': '000000b1f349fda46c9eac389380a4fb5bab66ad724d1372737927d53946eb3c'}\n",
      "\n",
      "************************************************************************************\n",
      "\n",
      "{'data': {'index': 9,\n",
      "          'nonce': 2848401,\n",
      "          'previous': '000000b1f349fda46c9eac389380a4fb5bab66ad724d1372737927d53946eb3c',\n",
      "          'timestamp': datetime.datetime(2019, 2, 13, 17, 41, 2, 960318),\n",
      "          'transactions': [{'Person_3': 5, 'Person_4': -5},\n",
      "                           {'Person_1': 6, 'Person_5': -6},\n",
      "                           {'Person_3': -3, 'Person_4': 3},\n",
      "                           {'Person_1': 7, 'Person_2': -7},\n",
      "                           {'Person_4': -1, 'Person_5': 1}]},\n",
      " 'hash': '000008b259bbc4a11bc630ea17f3887d29e1880d47e22d18daa1f461c525df8f'}\n",
      "\n",
      "************************************************************************************\n",
      "\n",
      "{'data': {'index': 10,\n",
      "          'nonce': 1936396,\n",
      "          'previous': '000008b259bbc4a11bc630ea17f3887d29e1880d47e22d18daa1f461c525df8f',\n",
      "          'timestamp': datetime.datetime(2019, 2, 13, 17, 41, 53, 822653),\n",
      "          'transactions': [{'Person_3': 7, 'Person_4': -7},\n",
      "                           {'Person_2': 9, 'Person_3': -9},\n",
      "                           {'Person_2': 4, 'Person_3': -4},\n",
      "                           {'Person_2': -1, 'Person_5': 1},\n",
      "                           {'Person_2': -4, 'Person_5': 4}]},\n",
      " 'hash': '000006a33977849eaec35ff6629f974812781b642662c1fef2bf836d8bbb77c0'}\n",
      "\n",
      "************************************************************************************\n",
      "\n"
     ]
    }
   ],
   "source": [
    "import pprint\n",
    "pp = pprint.PrettyPrinter()\n",
    "for block in blockchain:\n",
    "    pp.pprint(block)\n",
    "    print('\\n************************************************************************************\\n')"
   ]
  },
  {
   "cell_type": "markdown",
   "metadata": {},
   "source": [
    "### The current state\n",
    "#### Syncing for the first time"
   ]
  },
  {
   "cell_type": "code",
   "execution_count": 28,
   "metadata": {
    "collapsed": true
   },
   "outputs": [],
   "source": [
    "def validate_block(block, parent, state):    \n",
    "    error_msg = 'Error in %d' % block['data']['index']\n",
    "\n",
    "    # check block hash\n",
    "    assert block['hash'] == hash_sha256(block['data']), error_msg\n",
    "\n",
    "    # check block indices\n",
    "    assert block['data']['index'] == parent['data']['index'] + 1, error_msg\n",
    "\n",
    "    # check previous hash\n",
    "    assert block['data']['previous'] == parent['hash'], error_msg\n",
    "    \n",
    "    # validate all transactions\n",
    "    for transaction in block['data']['transactions']:\n",
    "        assert check_transaction_validity(transaction, state), error_msg\n",
    "        state = update_state(transaction, state)\n",
    "        \n",
    "    return state"
   ]
  },
  {
   "cell_type": "code",
   "execution_count": 29,
   "metadata": {},
   "outputs": [
    {
     "data": {
      "text/plain": [
       "{'Person_1': 141,\n",
       " 'Person_2': 99,\n",
       " 'Person_3': 57,\n",
       " 'Person_4': 97,\n",
       " 'Person_5': 106}"
      ]
     },
     "execution_count": 29,
     "metadata": {},
     "output_type": "execute_result"
    }
   ],
   "source": [
    "def check_chain(blockchain):\n",
    "    state = {}\n",
    "\n",
    "    for transaction in blockchain[0]['data']['transactions']:\n",
    "        state = update_state(transaction, state)\n",
    "\n",
    "    parent = blockchain[0]\n",
    "    \n",
    "    for block in blockchain[1:]:\n",
    "        state = validate_block(block, parent, state)\n",
    "        parent = block\n",
    "\n",
    "    return state\n",
    "\n",
    "check_chain(blockchain)"
   ]
  },
  {
   "cell_type": "code",
   "execution_count": null,
   "metadata": {
    "collapsed": true
   },
   "outputs": [],
   "source": []
  }
 ],
 "metadata": {
  "kernelspec": {
   "display_name": "Python 3",
   "language": "python",
   "name": "python3"
  },
  "language_info": {
   "codemirror_mode": {
    "name": "ipython",
    "version": 3
   },
   "file_extension": ".py",
   "mimetype": "text/x-python",
   "name": "python",
   "nbconvert_exporter": "python",
   "pygments_lexer": "ipython3",
   "version": "3.6.3"
  }
 },
 "nbformat": 4,
 "nbformat_minor": 2
}
