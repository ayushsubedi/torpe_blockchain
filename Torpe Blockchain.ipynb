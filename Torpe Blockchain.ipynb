{
 "cells": [
  {
   "cell_type": "markdown",
   "metadata": {},
   "source": [
    "### Hash Function"
   ]
  },
  {
   "cell_type": "code",
   "execution_count": 1,
   "metadata": {
    "collapsed": true
   },
   "outputs": [],
   "source": [
    "import hashlib\n",
    "def hash_sha256(raw):\n",
    "    raw = str(raw).encode('utf-8')\n",
    "    return hashlib.sha256(raw).hexdigest() "
   ]
  },
  {
   "cell_type": "code",
   "execution_count": 2,
   "metadata": {},
   "outputs": [
    {
     "data": {
      "text/plain": [
       "'e5367197a1f12480ec761306f2fa9d15b494d5a80e5a806713df9e60943f4faf'"
      ]
     },
     "execution_count": 2,
     "metadata": {},
     "output_type": "execute_result"
    }
   ],
   "source": [
    "hash_sha256('torpe_blockchain')"
   ]
  },
  {
   "cell_type": "code",
   "execution_count": 3,
   "metadata": {},
   "outputs": [
    {
     "data": {
      "text/plain": [
       "'e5367197a1f12480ec761306f2fa9d15b494d5a80e5a806713df9e60943f4faf'"
      ]
     },
     "execution_count": 3,
     "metadata": {},
     "output_type": "execute_result"
    }
   ],
   "source": [
    "hash_sha256('torpe_blockchain')"
   ]
  },
  {
   "cell_type": "code",
   "execution_count": 4,
   "metadata": {},
   "outputs": [
    {
     "data": {
      "text/plain": [
       "'35ba7e0c2afd3e1175399e99c7e307ea78e62c9dd6e3cb39afc9604043a55e4b'"
      ]
     },
     "execution_count": 4,
     "metadata": {},
     "output_type": "execute_result"
    }
   ],
   "source": [
    "hash_sha256('monkey_brain')"
   ]
  },
  {
   "cell_type": "markdown",
   "metadata": {},
   "source": [
    "SHA-256 collisions have not been found yet. "
   ]
  },
  {
   "cell_type": "markdown",
   "metadata": {},
   "source": [
    "### Nonce"
   ]
  },
  {
   "cell_type": "markdown",
   "metadata": {},
   "source": [
    "> Number that can only be used once\n",
    "\n",
    "An arbitrary numer used in cryptography to ensure uniqueness and prevent the rerunning of transactions (known as replay attack). "
   ]
  },
  {
   "cell_type": "markdown",
   "metadata": {},
   "source": [
    "## Block"
   ]
  },
  {
   "cell_type": "markdown",
   "metadata": {},
   "source": [
    "Blocks hold batches of valid transactions that are hashed and encoded into a Merkle tree Each block includes the cryptographic hash of the prior block in the blockchain, linking the two. The linked blocks form a chain. This iterative process confirms the integrity of the previous block, all the way back to the original genesis block."
   ]
  },
  {
   "cell_type": "markdown",
   "metadata": {},
   "source": [
    "### Genesis Block"
   ]
  },
  {
   "cell_type": "markdown",
   "metadata": {},
   "source": [
    "A genesis block or block0 is the first block of a block chain. The genesis block is almost always hardcoded into the software of the applications that utilize its block chain. It is a special case in that it does not reference a previous block"
   ]
  },
  {
   "cell_type": "code",
   "execution_count": 5,
   "metadata": {
    "collapsed": true
   },
   "outputs": [],
   "source": [
    "import datetime"
   ]
  },
  {
   "cell_type": "code",
   "execution_count": 6,
   "metadata": {
    "collapsed": true
   },
   "outputs": [],
   "source": [
    "# Lets assume 5 person were given 100 coins each\n",
    "state = {\n",
    "    'Person_1': 100, \n",
    "    'Person_2': 100, \n",
    "    'Person_3': 100, \n",
    "    'Person_4': 100, \n",
    "    'Person_5': 100\n",
    "}"
   ]
  },
  {
   "cell_type": "code",
   "execution_count": 7,
   "metadata": {},
   "outputs": [],
   "source": [
    "block0_data = {\n",
    "    'timestamp': datetime.datetime.now(),\n",
    "    'index': 0,\n",
    "    'privious': None,\n",
    "    'transactions': [state] \n",
    "}\n",
    "\n",
    "block0 = {\n",
    "    'hash': hash_sha256(block0_data),\n",
    "    'data': block0_data,\n",
    "}"
   ]
  },
  {
   "cell_type": "code",
   "execution_count": 8,
   "metadata": {},
   "outputs": [
    {
     "data": {
      "text/plain": [
       "{'data': {'index': 0,\n",
       "  'privious': None,\n",
       "  'timestamp': datetime.datetime(2019, 1, 24, 20, 52, 10, 202963),\n",
       "  'transactions': [{'Person_1': 100,\n",
       "    'Person_2': 100,\n",
       "    'Person_3': 100,\n",
       "    'Person_4': 100,\n",
       "    'Person_5': 100}]},\n",
       " 'hash': '747e6dd9096e5d7c4e442c0368db0eed73df2bd0b768baa748e596bf4cacdbe6'}"
      ]
     },
     "execution_count": 8,
     "metadata": {},
     "output_type": "execute_result"
    }
   ],
   "source": [
    "block0"
   ]
  },
  {
   "cell_type": "markdown",
   "metadata": {},
   "source": [
    "This is the genesis block or block 0 here."
   ]
  },
  {
   "cell_type": "markdown",
   "metadata": {},
   "source": [
    "### Transactions"
   ]
  },
  {
   "cell_type": "code",
   "execution_count": 9,
   "metadata": {
    "collapsed": true
   },
   "outputs": [],
   "source": [
    "import random\n",
    "def random_transaction(state):\n",
    "    temp_list = list(state.keys())\n",
    "    random.shuffle(temp_list)\n",
    "    # randomly select two persons\n",
    "    first_person = temp_list.pop()\n",
    "    second_person = temp_list.pop()\n",
    "    receive = random.randint(1, 10)\n",
    "    give = -receive\n",
    "    return {\n",
    "        first_person:receive, \n",
    "        second_person:give\n",
    "    }"
   ]
  },
  {
   "cell_type": "code",
   "execution_count": 10,
   "metadata": {},
   "outputs": [],
   "source": [
    "test_transactions = [random_transaction(state) for x in range(5)]"
   ]
  },
  {
   "cell_type": "code",
   "execution_count": 11,
   "metadata": {},
   "outputs": [
    {
     "data": {
      "text/plain": [
       "[{'Person_1': -7, 'Person_4': 7},\n",
       " {'Person_2': -5, 'Person_3': 5},\n",
       " {'Person_1': -5, 'Person_2': 5},\n",
       " {'Person_2': 3, 'Person_5': -3},\n",
       " {'Person_2': 6, 'Person_4': -6}]"
      ]
     },
     "execution_count": 11,
     "metadata": {},
     "output_type": "execute_result"
    }
   ],
   "source": [
    "test_transactions"
   ]
  },
  {
   "cell_type": "markdown",
   "metadata": {},
   "source": [
    "### Updating State"
   ]
  },
  {
   "cell_type": "code",
   "execution_count": 12,
   "metadata": {},
   "outputs": [],
   "source": [
    "def update_state(transaction, state):\n",
    "    state = state.copy()\n",
    "    for key in transaction:\n",
    "        state[key] = state.get(key) + transaction[key]\n",
    "    return state"
   ]
  },
  {
   "cell_type": "code",
   "execution_count": 13,
   "metadata": {},
   "outputs": [],
   "source": [
    "for transaction in test_transactions:\n",
    "    state = update_state(transaction, state)"
   ]
  },
  {
   "cell_type": "code",
   "execution_count": 14,
   "metadata": {},
   "outputs": [
    {
     "data": {
      "text/plain": [
       "{'Person_1': 88,\n",
       " 'Person_2': 109,\n",
       " 'Person_3': 105,\n",
       " 'Person_4': 101,\n",
       " 'Person_5': 97}"
      ]
     },
     "execution_count": 14,
     "metadata": {},
     "output_type": "execute_result"
    }
   ],
   "source": [
    "state"
   ]
  },
  {
   "cell_type": "markdown",
   "metadata": {},
   "source": [
    "### Valid Transactions"
   ]
  },
  {
   "cell_type": "code",
   "execution_count": null,
   "metadata": {
    "collapsed": true
   },
   "outputs": [],
   "source": []
  }
 ],
 "metadata": {
  "kernelspec": {
   "display_name": "Python 3",
   "language": "python",
   "name": "python3"
  },
  "language_info": {
   "codemirror_mode": {
    "name": "ipython",
    "version": 3
   },
   "file_extension": ".py",
   "mimetype": "text/x-python",
   "name": "python",
   "nbconvert_exporter": "python",
   "pygments_lexer": "ipython3",
   "version": "3.6.3"
  }
 },
 "nbformat": 4,
 "nbformat_minor": 2
}
